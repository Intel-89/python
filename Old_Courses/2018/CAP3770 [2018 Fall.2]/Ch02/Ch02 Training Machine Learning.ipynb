{
  "cells": [
    {
      "metadata": {
        "trusted": true
      },
      "cell_type": "code",
      "source": "import pandas as pd\nimport numpy as np\nimport matplotlib.pyplot as plt",
      "execution_count": 7,
      "outputs": []
    },
    {
      "metadata": {
        "trusted": true
      },
      "cell_type": "code",
      "source": "df = pd.read_csv('https://archive.ics.uci.edu/ml/machine-learning-databases/iris/iris.data', header=None)",
      "execution_count": 3,
      "outputs": []
    },
    {
      "metadata": {
        "trusted": true
      },
      "cell_type": "code",
      "source": "x = np.arange(1,10)\ny = np.arange(11,12)\nx_mesh, y_mesh = np.meshgrid(x,y)\n\nprint(x)\nprint(y)",
      "execution_count": 4,
      "outputs": [
        {
          "output_type": "stream",
          "text": "[1 2 3 4 5 6 7 8 9]\n[11]\n",
          "name": "stdout"
        }
      ]
    },
    {
      "metadata": {
        "trusted": true
      },
      "cell_type": "code",
      "source": "print(x_mesh)\nprint(y_mesh)\nplt.scatter(x_mesh,y_mesh)\nplt.show()",
      "execution_count": 6,
      "outputs": [
        {
          "output_type": "stream",
          "text": "[[1 2 3 4 5 6 7 8 9]]\n[[11 11 11 11 11 11 11 11 11]]\n",
          "name": "stdout"
        },
        {
          "output_type": "display_data",
          "data": {
            "image/png": "[encoded data removed]",
            "text/plain": "<matplotlib.figure.Figure at 0x7f3cb34eca90>"
          },
          "metadata": {}
        }
      ]
    },
    {
      "metadata": {},
      "cell_type": "markdown",
      "source": "## Class"
    },
    {
      "metadata": {
        "trusted": true
      },
      "cell_type": "code",
      "source": "class Perceptron(object)\n    def __init__(self, eta=0.01, n_iter=50, random_state=1):\n        self.eta=eta\n        self.n_iter=n_iter\n        self.random_state=random_state\n    def fit(self, X, y)\n        rgen=np.random.RandomState(self.random_state)\n        #generate random w0,w1,w2\n        self.w_=rgen.normal(loc=0.0,scale=0.01,size=1 + X.shape[1])\n        self.errors_ = []\n    for _ in range(self.n_iter):            \n        errors = 0            \n        for xi, target in zip(X, y):                \n            update = self.eta * (target - self.predict(xi))                \n            self.w_[1:] += update * xi                \n            self.w_[0] += update                \n            errors += int(update != 0.0)            \n        self.errors_.append(errors)        \n    return self\n    def net_input(self, X):\n        return np.dot(X, self.w_[1:]) + self.w_[0]\n    def predict(self, X):\n        return np.where(self.net_input(X) >= 0.0, 1, -1)",
      "execution_count": null,
      "outputs": []
    }
  ],
  "metadata": {
    "kernelspec": {
      "name": "python36",
      "display_name": "Python 3.6",
      "language": "python"
    },
    "language_info": {
      "mimetype": "text/x-python",
      "nbconvert_exporter": "python",
      "name": "python",
      "pygments_lexer": "ipython3",
      "version": "3.6.6",
      "file_extension": ".py",
      "codemirror_mode": {
        "version": 3,
        "name": "ipython"
      }
    }
  },
  "nbformat": 4,
  "nbformat_minor": 2
}