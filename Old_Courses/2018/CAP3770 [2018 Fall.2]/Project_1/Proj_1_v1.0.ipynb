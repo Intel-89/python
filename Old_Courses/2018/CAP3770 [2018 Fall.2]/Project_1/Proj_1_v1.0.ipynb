{
  "cells": [
    {
      "metadata": {
        "trusted": true
      },
      "cell_type": "code",
      "source": "import matplotlib.pyplot as plt\nimport pandas as pd\nimport numpy as np",
      "execution_count": 2,
      "outputs": []
    },
    {
      "metadata": {
        "trusted": true
      },
      "cell_type": "code",
      "source": "df = pd.read_csv('iris.data',header=None)",
      "execution_count": 3,
      "outputs": []
    },
    {
      "metadata": {
        "trusted": true
      },
      "cell_type": "code",
      "source": "class Perceptron(object):\n    def __init__(self, eta=0.01, n_iter = 50, random_state=1):\n        self.eta = eta\n        self.n_inter = n_iter\n        self.random_state = random_state\n    def fit(self, X, y):\n        rgen = np.random.RandomState(self.random_state)\n        #generate random w0, w1, w2\n        self.w_=rgen.normal(loc=0.0, scale=0.01, size=1+X.shape[1])\n        self.errors_ =[]\n        \n        for _ in range(self.n_inter):\n            errors = 0\n            for xi , target in zip(X,y):\n                update = self.eta * (target - self.predict(xi))\n                self.w_[1:] += update*xi\n                self.w_[0:] +=update\n                errors += int(update !=0)\n            self.errors_.append(errors)\n        return self\n    \n    def net_input(self,X):\n        return np.dot(X, self.w_[1:]) + self.w_[0]\n    \n    def predict(self, X):\n        return np.where(self.net_input(X) >=0.0 , 1,-1)",
      "execution_count": 4,
      "outputs": []
    },
    {
      "metadata": {
        "trusted": true
      },
      "cell_type": "code",
      "source": "",
      "execution_count": null,
      "outputs": []
    }
  ],
  "metadata": {
    "kernelspec": {
      "name": "python36",
      "display_name": "Python 3.6",
      "language": "python"
    },
    "language_info": {
      "mimetype": "text/x-python",
      "nbconvert_exporter": "python",
      "name": "python",
      "pygments_lexer": "ipython3",
      "version": "3.6.6",
      "file_extension": ".py",
      "codemirror_mode": {
        "version": 3,
        "name": "ipython"
      }
    }
  },
  "nbformat": 4,
  "nbformat_minor": 1
}