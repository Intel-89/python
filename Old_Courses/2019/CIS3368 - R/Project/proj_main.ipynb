{
  "cells": [
    {
      "metadata": {},
      "cell_type": "markdown",
      "source": "# CIS3368 - Final Project\n\n#### Authors:\n-  Zsanett Kukoda\n-  Brandon Casas\n-  Fabio Montes"
    },
    {
      "metadata": {
        "trusted": true
      },
      "cell_type": "code",
      "source": "data_tbl = read.table('proj_data.csv', header = TRUE, sep = ',')    # Reading csv file into dataframe structure",
      "execution_count": 1,
      "outputs": []
    },
    {
      "metadata": {
        "trusted": true
      },
      "cell_type": "code",
      "source": "str(data_tbl)    # Displaying structure from dataframe",
      "execution_count": 50,
      "outputs": [
        {
          "output_type": "stream",
          "text": "'data.frame':\t15711 obs. of  80 variables:\n $ Querylength                    : int  0 0 0 0 0 0 0 0 0 0 ...\n $ domain_token_count             : int  4 4 4 4 4 4 4 4 4 4 ...\n $ path_token_count               : int  5 5 5 12 6 8 5 7 6 5 ...\n $ avgdomaintokenlen              : num  5.5 5.5 5.5 5.5 5.5 5.5 5.5 5.5 5.5 5.5 ...\n $ longdomaintokenlen             : int  14 14 14 14 14 14 14 14 14 14 ...\n $ avgpathtokenlen                : num  4.4 6 5.8 5.5 7.33 ...\n $ tld                            : int  4 4 4 4 4 4 4 4 4 4 ...\n $ charcompvowels                 : int  8 12 12 32 18 22 17 16 16 7 ...\n $ charcompace                    : int  3 4 5 16 11 10 10 9 10 3 ...\n $ ldl_url                        : int  0 0 0 0 0 0 0 0 0 0 ...\n $ ldl_domain                     : int  0 0 0 0 0 0 0 0 0 0 ...\n $ ldl_path                       : int  0 0 0 0 0 0 0 0 0 0 ...\n $ ldl_filename                   : int  0 0 0 0 0 0 0 0 0 0 ...\n $ ldl_getArg                     : int  0 0 0 0 0 0 0 0 0 0 ...\n $ dld_url                        : int  0 0 0 0 0 0 0 0 0 0 ...\n $ dld_domain                     : int  0 0 0 0 0 0 0 0 0 0 ...\n $ dld_path                       : int  0 0 0 0 0 0 0 0 0 0 ...\n $ dld_filename                   : int  0 0 0 0 0 0 0 0 0 0 ...\n $ dld_getArg                     : int  0 0 0 0 0 0 0 0 0 0 ...\n $ urlLen                         : int  58 66 65 109 81 91 75 82 76 54 ...\n $ domainlength                   : int  25 25 25 25 25 25 25 25 25 25 ...\n $ pathLength                     : int  26 34 33 77 49 59 43 50 44 22 ...\n $ subDirLen                      : int  26 34 33 77 49 59 43 50 44 22 ...\n $ fileNameLen                    : int  13 2 2 2 2 2 2 2 2 9 ...\n $ this.fileExtLen                : int  1 2 2 2 2 2 2 2 2 1 ...\n $ ArgLen                         : int  2 2 2 2 2 2 2 2 2 2 ...\n $ pathurlRatio                   : num  0.448 0.515 0.508 0.706 0.605 ...\n $ ArgUrlRatio                    : num  0.0345 0.0303 0.0308 0.0183 0.0247 ...\n $ argDomanRatio                  : num  0.08 0.08 0.08 0.08 0.08 0.08 0.08 0.08 0.08 0.08 ...\n $ domainUrlRatio                 : num  0.431 0.379 0.385 0.229 0.309 ...\n $ pathDomainRatio                : num  1.04 1.36 1.32 3.08 1.96 2.36 1.72 2 1.76 0.88 ...\n $ argPathRatio                   : num  0.0769 0.0588 0.0606 0.026 0.0408 ...\n $ executable                     : int  0 0 0 0 0 0 0 0 0 0 ...\n $ isPortEighty                   : int  -1 -1 -1 -1 -1 -1 -1 -1 -1 -1 ...\n $ NumberofDotsinURL              : int  5 4 4 4 4 4 4 4 4 5 ...\n $ ISIpAddressInDomainName        : int  -1 -1 -1 -1 -1 -1 -1 -1 -1 -1 ...\n $ CharacterContinuityRate        : num  0.6 0.6 0.6 0.6 0.6 0.6 0.6 0.6 0.6 0.6 ...\n $ LongestVariableValue           : int  -1 -1 -1 -1 -1 -1 -1 -1 -1 -1 ...\n $ URL_DigitCount                 : int  1 0 0 0 0 0 0 8 0 1 ...\n $ host_DigitCount                : int  0 0 0 0 0 0 0 0 0 0 ...\n $ Directory_DigitCount           : int  0 0 0 0 0 0 0 0 0 0 ...\n $ File_name_DigitCount           : int  0 0 0 0 0 0 0 0 0 0 ...\n $ Extension_DigitCount           : int  1 0 0 0 0 0 0 8 0 1 ...\n $ Query_DigitCount               : int  -1 -1 -1 -1 -1 -1 -1 -1 -1 -1 ...\n $ URL_Letter_Count               : int  47 56 55 92 70 78 65 62 65 43 ...\n $ host_letter_count              : int  22 22 22 22 22 22 22 22 22 22 ...\n $ Directory_LetterCount          : int  8 8 8 8 8 8 8 8 8 8 ...\n $ Filename_LetterCount           : int  13 13 13 13 13 13 13 13 13 9 ...\n $ Extension_LetterCount          : int  0 9 8 45 23 31 18 15 18 0 ...\n $ Query_LetterCount              : int  -1 -1 -1 -1 -1 -1 -1 -1 -1 -1 ...\n $ LongestPathTokenLength         : int  13 13 13 52 24 34 18 25 19 9 ...\n $ Domain_LongestWordLength       : int  14 14 14 14 14 14 14 14 14 14 ...\n $ Path_LongestWordLength         : int  13 13 13 13 13 15 18 13 13 9 ...\n $ sub.Directory_LongestWordLength: int  5 5 5 13 13 13 5 13 13 5 ...\n $ Arguments_LongestWordLength    : int  -1 -1 -1 -1 -1 -1 -1 -1 -1 -1 ...\n $ URL_sensitiveWord              : int  0 0 0 0 0 0 0 0 0 0 ...\n $ URLQueries_variable            : int  0 0 0 0 0 0 0 0 0 0 ...\n $ spcharUrl                      : int  3 4 4 4 4 4 4 4 4 3 ...\n $ delimeter_Domain               : int  0 0 0 0 0 0 0 0 0 0 ...\n $ delimeter_path                 : int  2 1 1 8 2 4 1 3 2 2 ...\n $ delimeter_Count                : int  -1 -1 -1 -1 -1 -1 -1 -1 -1 -1 ...\n $ NumberRate_URL                 : num  0.0172 0 0 0 0 ...\n $ NumberRate_Domain              : num  0 0 0 0 0 0 0 0 0 0 ...\n $ NumberRate_DirectoryName       : num  0 0 0 0 0 0 0 0 0 0 ...\n $ NumberRate_FileName            : num  0.0667 0 0 0 0 ...\n $ NumberRate_Extension           : num  1 NaN NaN NaN NaN NaN NaN NaN NaN 1 ...\n $ NumberRate_AfterPath           : num  -1 -1 -1 -1 -1 -1 -1 -1 -1 -1 ...\n $ SymbolCount_URL                : int  8 8 8 8 8 8 8 8 8 8 ...\n $ SymbolCount_Domain             : int  3 3 3 3 3 3 3 3 3 3 ...\n $ SymbolCount_Directoryname      : int  2 3 3 3 3 3 3 3 3 2 ...\n $ SymbolCount_FileName           : int  1 0 0 0 0 0 0 0 0 1 ...\n $ SymbolCount_Extension          : int  0 0 0 0 0 0 0 0 0 0 ...\n $ SymbolCount_Afterpath          : int  -1 -1 -1 -1 -1 -1 -1 -1 -1 -1 ...\n $ Entropy_URL                    : num  0.726 0.689 0.695 0.64 0.681 ...\n $ Entropy_Domain                 : num  0.784 0.784 0.784 0.784 0.784 ...\n $ Entropy_DirectoryName          : num  0.895 0.815 0.815 0.815 0.815 ...\n $ Entropy_Filename               : num  0.851 0.86 0.802 0.663 0.805 ...\n $ Entropy_Extension              : num  NaN 0 0 0 0 0 0 0 0 NaN ...\n $ Entropy_Afterpath              : num  -1 -1 -1 -1 -1 -1 -1 -1 -1 -1 ...\n $ URL_Type_obf_Type              : Factor w/ 2 levels \"benign\",\"Defacement\": 2 2 2 2 2 2 2 2 2 2 ...\n",
          "name": "stdout"
        }
      ]
    },
    {
      "metadata": {
        "trusted": true
      },
      "cell_type": "code",
      "source": "URL_Type_obf_Type_Binary= case_when(data_tbl$URL_Type_obf_Type==\"benign\" ~ 0,data_tbl$URL_Type_obf_Type==\"Defacement\" ~ 1,)  # Creating binary vector based on categorical feature\ndata_tbl[\"URL_Type_obf_Type_Binary\"] <- URL_Type_obf_Type_Binary    # Inserting vector as a new feature on the dataframe\nhead(data_tbl$URL_Type_obf_Type_Binary,3)                           # Displaying first 3 values from new feature\ntail(data_tbl$URL_Type_obf_Type_Binary,3)                           # Displaying last  3 values from new feature",
      "execution_count": 51,
      "outputs": [
        {
          "output_type": "display_data",
          "data": {
            "text/plain": "[1] 1 1 1",
            "text/latex": "\\begin{enumerate*}\n\\item 1\n\\item 1\n\\item 1\n\\end{enumerate*}\n",
            "text/markdown": "1. 1\n2. 1\n3. 1\n\n\n",
            "text/html": "<ol class=list-inline>\n\t<li>1</li>\n\t<li>1</li>\n\t<li>1</li>\n</ol>\n"
          },
          "metadata": {}
        },
        {
          "output_type": "display_data",
          "data": {
            "text/plain": "[1] 0 0 0",
            "text/latex": "\\begin{enumerate*}\n\\item 0\n\\item 0\n\\item 0\n\\end{enumerate*}\n",
            "text/markdown": "1. 0\n2. 0\n3. 0\n\n\n",
            "text/html": "<ol class=list-inline>\n\t<li>0</li>\n\t<li>0</li>\n\t<li>0</li>\n</ol>\n"
          },
          "metadata": {}
        }
      ]
    },
    {
      "metadata": {
        "trusted": true
      },
      "cell_type": "code",
      "source": "dim(data_tbl)    # 15711 obs. of  81 variables: 1 more variable since feature addition",
      "execution_count": 42,
      "outputs": [
        {
          "output_type": "display_data",
          "data": {
            "text/plain": "[1] 15711    81",
            "text/latex": "\\begin{enumerate*}\n\\item 15711\n\\item 81\n\\end{enumerate*}\n",
            "text/markdown": "1. 15711\n2. 81\n\n\n",
            "text/html": "<ol class=list-inline>\n\t<li>15711</li>\n\t<li>81</li>\n</ol>\n"
          },
          "metadata": {}
        }
      ]
    },
    {
      "metadata": {
        "trusted": true
      },
      "cell_type": "code",
      "source": "summary(data_tbl)",
      "execution_count": 52,
      "outputs": [
        {
          "output_type": "display_data",
          "data": {
            "text/plain": "  Querylength     domain_token_count path_token_count avgdomaintokenlen\n Min.   :  0.00   Min.   :2.000      Min.   : 2.000   Min.   : 2.000   \n 1st Qu.:  0.00   1st Qu.:2.000      1st Qu.: 7.000   1st Qu.: 4.333   \n Median :  0.00   Median :2.000      Median : 9.000   Median : 5.333   \n Mean   : 14.57   Mean   :2.554      Mean   : 9.676   Mean   : 5.465   \n 3rd Qu.: 22.00   3rd Qu.:3.000      3rd Qu.:12.000   3rd Qu.: 6.500   \n Max.   :221.00   Max.   :4.000      Max.   :68.000   Max.   :14.500   \n                                                                       \n longdomaintokenlen avgpathtokenlen       tld        charcompvowels \n Min.   : 2.000     Min.   : 1.000   Min.   :2.000   Min.   : 0.00  \n 1st Qu.: 6.000     1st Qu.: 2.667   1st Qu.:2.000   1st Qu.: 9.00  \n Median : 9.000     Median : 3.667   Median :2.000   Median :15.00  \n Mean   : 9.481     Mean   : 3.996   Mean   :2.554   Mean   :15.89  \n 3rd Qu.:12.000     3rd Qu.: 4.800   3rd Qu.:3.000   3rd Qu.:21.00  \n Max.   :26.000     Max.   :65.000   Max.   :4.000   Max.   :98.00  \n                    NA's   :7                                       \n  charcompace        ldl_url          ldl_domain         ldl_path      \n Min.   : 0.000   Min.   : 0.0000   Min.   :0.00000   Min.   : 0.0000  \n 1st Qu.: 5.000   1st Qu.: 0.0000   1st Qu.:0.00000   1st Qu.: 0.0000  \n Median : 9.000   Median : 0.0000   Median :0.00000   Median : 0.0000  \n Mean   : 9.609   Mean   : 0.7364   Mean   :0.04755   Mean   : 0.6885  \n 3rd Qu.:12.000   3rd Qu.: 0.0000   3rd Qu.:0.00000   3rd Qu.: 0.0000  \n Max.   :80.000   Max.   :43.0000   Max.   :1.00000   Max.   :43.0000  \n                                                                       \n  ldl_filename       ldl_getArg         dld_url          dld_domain       \n Min.   : 0.0000   Min.   : 0.0000   Min.   : 0.0000   Min.   :0.0000000  \n 1st Qu.: 0.0000   1st Qu.: 0.0000   1st Qu.: 0.0000   1st Qu.:0.0000000  \n Median : 0.0000   Median : 0.0000   Median : 0.0000   Median :0.0000000  \n Mean   : 0.1288   Mean   : 0.3858   Mean   : 0.2075   Mean   :0.0001909  \n 3rd Qu.: 0.0000   3rd Qu.: 0.0000   3rd Qu.: 0.0000   3rd Qu.:0.0000000  \n Max.   :15.0000   Max.   :35.0000   Max.   :11.0000   Max.   :1.0000000  \n                                                                          \n    dld_path        dld_filename        dld_getArg           urlLen      \n Min.   : 0.0000   Min.   : 0.00000   Min.   : 0.00000   Min.   : 19.00  \n 1st Qu.: 0.0000   1st Qu.: 0.00000   1st Qu.: 0.00000   1st Qu.: 57.00  \n Median : 0.0000   Median : 0.00000   Median : 0.00000   Median : 79.00  \n Mean   : 0.2073   Mean   : 0.05582   Mean   : 0.07644   Mean   : 82.96  \n 3rd Qu.: 0.0000   3rd Qu.: 0.00000   3rd Qu.: 0.00000   3rd Qu.:100.00  \n Max.   :11.0000   Max.   :10.00000   Max.   :10.00000   Max.   :348.00  \n                                                                         \n  domainlength     pathLength       subDirLen       fileNameLen     \n Min.   : 5.00   Min.   :  4.00   Min.   :  4.00   Min.   :  1.000  \n 1st Qu.:11.00   1st Qu.: 37.00   1st Qu.: 37.00   1st Qu.:  2.000  \n Median :14.00   Median : 57.00   Median : 57.00   Median :  2.000  \n Mean   :15.24   Mean   : 60.67   Mean   : 60.67   Mean   :  7.746  \n 3rd Qu.:18.00   3rd Qu.: 76.00   3rd Qu.: 76.00   3rd Qu.:  2.000  \n Max.   :35.00   Max.   :330.00   Max.   :330.00   Max.   :165.000  \n                                                                    \n this.fileExtLen     ArgLen        pathurlRatio     ArgUrlRatio      \n Min.   :1.000   Min.   :  1.00   Min.   :0.1111   Min.   :0.005747  \n 1st Qu.:2.000   1st Qu.:  2.00   1st Qu.:0.6373   1st Qu.:0.028571  \n Median :2.000   Median :  2.00   Median :0.7195   Median :0.058824  \n Mean   :2.414   Mean   : 26.63   Mean   :0.6908   Mean   :0.254994  \n 3rd Qu.:2.000   3rd Qu.: 47.00   3rd Qu.:0.7835   3rd Qu.:0.538462  \n Max.   :5.000   Max.   :240.00   Max.   :0.9509   Max.   :0.877323  \n                                                                     \n argDomanRatio     domainUrlRatio   pathDomainRatio    argPathRatio     \n Min.   : 0.0303   Min.   :0.0289   Min.   : 0.1515   Min.   :0.006061  \n 1st Qu.: 0.1538   1st Qu.:0.1399   1st Qu.: 2.5625   1st Qu.:0.040816  \n Median : 0.2857   Median :0.1846   Median : 3.8889   Median :0.172727  \n Mean   : 1.5885   Mean   :0.2089   Mean   : 4.3892   Mean   :0.358785  \n 3rd Qu.: 2.5455   3rd Qu.:0.2500   3rd Qu.: 5.5714   3rd Qu.:0.786885  \n Max.   :17.1667   Max.   :0.7333   Max.   :32.9000   Max.   :0.958333  \n                                                                        \n   executable  isPortEighty     NumberofDotsinURL ISIpAddressInDomainName\n Min.   :0    Min.   :-1.0000   Min.   : 1.000    Min.   :-1             \n 1st Qu.:0    1st Qu.:-1.0000   1st Qu.: 1.000    1st Qu.:-1             \n Median :0    Median :-1.0000   Median : 2.000    Median :-1             \n Mean   :0    Mean   :-0.9999   Mean   : 2.387    Mean   :-1             \n 3rd Qu.:0    3rd Qu.:-1.0000   3rd Qu.: 3.000    3rd Qu.:-1             \n Max.   :0    Max.   : 0.0000   Max.   :19.000    Max.   :-1             \n                                                                         \n CharacterContinuityRate LongestVariableValue URL_DigitCount   \n Min.   :0.2857          Min.   : -1.000      Min.   :  0.000  \n 1st Qu.:0.5385          1st Qu.: -1.000      1st Qu.:  2.000  \n Median :0.7000          Median : -1.000      Median :  5.000  \n Mean   :0.6529          Mean   :  7.805      Mean   :  6.325  \n 3rd Qu.:0.7778          3rd Qu.: 11.000      3rd Qu.:  8.000  \n Max.   :1.0000          Max.   :202.000      Max.   :118.000  \n                                                               \n host_DigitCount  Directory_DigitCount File_name_DigitCount\n Min.   :0.0000   Min.   :-1.0000      Min.   : -1.000     \n 1st Qu.:0.0000   1st Qu.:-1.0000      1st Qu.:  0.000     \n Median :0.0000   Median : 0.0000      Median :  0.000     \n Mean   :0.2648   Mean   : 0.8236      Mean   :  1.254     \n 3rd Qu.:0.0000   3rd Qu.: 0.0000      3rd Qu.:  0.000     \n Max.   :9.0000   Max.   :46.0000      Max.   :110.000     \n                                                           \n Extension_DigitCount Query_DigitCount URL_Letter_Count host_letter_count\n Min.   :-1.000       Min.   :-1.00    Min.   : 10.00   Min.   : 2.00    \n 1st Qu.: 0.000       1st Qu.:-1.00    1st Qu.: 42.00   1st Qu.:10.00    \n Median : 1.000       Median :-1.00    Median : 58.00   Median :12.00    \n Mean   : 3.273       Mean   : 2.26    Mean   : 61.63   Mean   :13.28    \n 3rd Qu.: 5.000       3rd Qu.: 4.00    3rd Qu.: 75.00   3rd Qu.:16.00    \n Max.   :43.000       Max.   :43.00    Max.   :290.00   Max.   :32.00    \n                                                                         \n Directory_LetterCount Filename_LetterCount Extension_LetterCount\n Min.   : -1.000       Min.   : -1.000      Min.   : -1.0        \n 1st Qu.: -1.000       1st Qu.:  4.000      1st Qu.:  4.0        \n Median :  0.000       Median :  5.000      Median : 17.0        \n Mean   :  6.717       Mean   :  8.784      Mean   : 27.1        \n 3rd Qu.:  9.000       3rd Qu.:  9.000      3rd Qu.: 43.0        \n Max.   :125.000       Max.   :129.000      Max.   :261.0        \n                                                                 \n Query_LetterCount LongestPathTokenLength Domain_LongestWordLength\n Min.   : -1.00    Min.   :  2.00         Min.   : 2.000          \n 1st Qu.: -1.00    1st Qu.: 19.00         1st Qu.: 5.000          \n Median : -1.00    Median : 39.00         Median : 8.000          \n Mean   : 10.29    Mean   : 44.79         Mean   : 8.294          \n 3rd Qu.: 17.00    3rd Qu.: 61.00         3rd Qu.:10.000          \n Max.   :186.00    Max.   :304.00         Max.   :26.000          \n                                                                  \n Path_LongestWordLength sub.Directory_LongestWordLength\n Min.   : 0.000         Min.   :-1.000                 \n 1st Qu.: 7.000         1st Qu.: 7.000                 \n Median : 8.000         Median : 8.000                 \n Mean   : 8.587         Mean   : 7.952                 \n 3rd Qu.:10.000         3rd Qu.:10.000                 \n Max.   :44.000         Max.   :35.000                 \n                                                       \n Arguments_LongestWordLength URL_sensitiveWord URLQueries_variable\n Min.   :-1.000              Min.   :0.00000   Min.   : 0.000     \n 1st Qu.:-1.000              1st Qu.:0.00000   1st Qu.: 0.000     \n Median :-1.000              Median :0.00000   Median : 0.000     \n Mean   : 3.299              Mean   :0.01636   Mean   : 1.608     \n 3rd Qu.:11.000              3rd Qu.:0.00000   3rd Qu.: 4.000     \n Max.   :79.000              Max.   :3.00000   Max.   :12.000     \n                                                                  \n   spcharUrl      delimeter_Domain delimeter_path   delimeter_Count \n Min.   : 2.000   Min.   :0.000    Min.   : 0.000   Min.   :-1.000  \n 1st Qu.: 2.000   1st Qu.:0.000    1st Qu.: 2.000   1st Qu.:-1.000  \n Median : 3.000   Median :0.000    Median : 3.000   Median :-1.000  \n Mean   : 3.279   Mean   :0.146    Mean   : 4.255   Mean   : 2.279  \n 3rd Qu.: 4.000   3rd Qu.:0.000    3rd Qu.: 6.000   3rd Qu.: 7.000  \n Max.   :16.000   Max.   :2.000    Max.   :64.000   Max.   :23.000  \n                                                                    \n NumberRate_URL    NumberRate_Domain NumberRate_DirectoryName\n Min.   :0.00000   Min.   :0.00000   Min.   :-1.00000        \n 1st Qu.:0.02632   1st Qu.:0.00000   1st Qu.: 0.00000        \n Median :0.05455   Median :0.00000   Median : 0.00000        \n Mean   :0.07427   Mean   :0.02508   Mean   :-0.01281        \n 3rd Qu.:0.09677   3rd Qu.:0.00000   3rd Qu.: 0.00000        \n Max.   :0.60204   Max.   :0.66667   Max.   : 0.83333        \n                                                             \n NumberRate_FileName NumberRate_Extension NumberRate_AfterPath SymbolCount_URL \n Min.   :-1.00000    Min.   :-1.000       Min.   :-1.00000     Min.   : 3.000  \n 1st Qu.: 0.00000    1st Qu.: 0.000       1st Qu.:-1.00000     1st Qu.: 5.000  \n Median : 0.05556    Median : 0.050       Median :-1.00000     Median : 7.000  \n Mean   : 0.04816    Mean   :-0.029       Mean   :-0.46660     Mean   : 9.109  \n 3rd Qu.: 0.12000    3rd Qu.: 0.096       3rd Qu.: 0.08511     3rd Qu.:13.000  \n Max.   : 1.00000    Max.   : 1.000       Max.   : 1.00000     Max.   :28.000  \n                     NA's   :4989         NA's   :1                            \n SymbolCount_Domain SymbolCount_Directoryname SymbolCount_FileName\n Min.   :1.000      Min.   :-1.0000           Min.   :-1.000      \n 1st Qu.:1.000      1st Qu.:-1.0000           1st Qu.: 0.000      \n Median :1.000      Median : 1.0000           Median : 1.000      \n Mean   :1.554      Mean   : 0.7635           Mean   : 3.976      \n 3rd Qu.:2.000      3rd Qu.: 2.0000           3rd Qu.: 9.000      \n Max.   :3.000      Max.   :19.0000           Max.   :25.000      \n                                                                  \n SymbolCount_Extension SymbolCount_Afterpath  Entropy_URL     Entropy_Domain  \n Min.   :-1.000        Min.   :-1.000        Min.   :0.4993   Min.   :0.6836  \n 1st Qu.: 0.000        1st Qu.:-1.000        1st Qu.:0.6859   1st Qu.:0.7982  \n Median : 0.000        Median :-1.000        Median :0.7129   Median :0.8452  \n Mean   : 3.186        Mean   : 2.442        Mean   :0.7196   Mean   :0.8517  \n 3rd Qu.: 8.000        3rd Qu.: 7.000        3rd Qu.:0.7540   3rd Qu.:0.8976  \n Max.   :24.000        Max.   :23.000        Max.   :0.8901   Max.   :1.0000  \n                                                                              \n Entropy_DirectoryName Entropy_Filename  Entropy_Extension Entropy_Afterpath\n Min.   :-1.000        Min.   :-1.0000   Min.   :-1.0000   Min.   :-1.0000  \n 1st Qu.: 0.708        1st Qu.: 0.6958   1st Qu.: 0.0000   1st Qu.:-1.0000  \n Median : 0.790        Median : 0.7481   Median : 0.7129   Median :-1.0000  \n Mean   : 0.592        Mean   : 0.6600   Mean   : 0.4404   Mean   :-0.1714  \n 3rd Qu.: 0.860        3rd Qu.: 0.8543   3rd Qu.: 0.8636   3rd Qu.: 0.7423  \n Max.   : 0.962        Max.   : 1.0000   Max.   : 1.0000   Max.   : 1.0000  \n NA's   :6057          NA's   :195       NA's   :31                         \n  URL_Type_obf_Type URL_Type_obf_Type_Binary\n benign    :7781    Min.   :0.0000          \n Defacement:7930    1st Qu.:0.0000          \n                    Median :1.0000          \n                    Mean   :0.5047          \n                    3rd Qu.:1.0000          \n                    Max.   :1.0000          \n                                            "
          },
          "metadata": {}
        }
      ]
    },
    {
      "metadata": {
        "trusted": true
      },
      "cell_type": "code",
      "source": "",
      "execution_count": null,
      "outputs": []
    }
  ],
  "metadata": {
    "kernelspec": {
      "name": "r",
      "display_name": "R",
      "language": "R"
    },
    "language_info": {
      "mimetype": "text/x-r-source",
      "name": "R",
      "pygments_lexer": "r",
      "version": "3.4.1",
      "file_extension": ".r",
      "codemirror_mode": "r"
    }
  },
  "nbformat": 4,
  "nbformat_minor": 1
}