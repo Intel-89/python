{
  "cells": [
    {
      "metadata": {
        "trusted": true
      },
      "cell_type": "code",
      "source": "!pip install icd10-cm",
      "execution_count": 5,
      "outputs": [
        {
          "output_type": "stream",
          "text": "Collecting icd10-cm\n\u001b[?25l  Downloading https://files.pythonhosted.org/packages/6b/a5/3059308d94513845e78d701b71a60c55ee4c37fab4b6442e4c58cdb70da1/icd10_cm-0.0.4-py2.py3-none-any.whl (675kB)\n\u001b[K     |████████████████████████████████| 675kB 2.9MB/s eta 0:00:01    |████▍                           | 92kB 4.1MB/s eta 0:00:01\n\u001b[?25hInstalling collected packages: icd10-cm\nSuccessfully installed icd10-cm-0.0.4\n\u001b[33mWARNING: You are using pip version 19.3.1; however, version 20.0.2 is available.\nYou should consider upgrading via the 'pip install --upgrade pip' command.\u001b[0m\n",
          "name": "stdout"
        }
      ]
    },
    {
      "metadata": {
        "trusted": true
      },
      "cell_type": "code",
      "source": "import icd10\n\nif icd10.exists(\"J20.0\"):\n    print(\"Exists\")",
      "execution_count": 6,
      "outputs": [
        {
          "output_type": "stream",
          "text": "Exists\n",
          "name": "stdout"
        }
      ]
    },
    {
      "metadata": {
        "trusted": true
      },
      "cell_type": "code",
      "source": "print(\"hello\")",
      "execution_count": 1,
      "outputs": [
        {
          "output_type": "stream",
          "text": "hello\n",
          "name": "stdout"
        }
      ]
    },
    {
      "metadata": {
        "trusted": true
      },
      "cell_type": "code",
      "source": "# install jupyterthemes\n!pip install jupyterthemes",
      "execution_count": 2,
      "outputs": [
        {
          "output_type": "stream",
          "text": "Collecting jupyterthemes\n\u001b[?25l  Downloading https://files.pythonhosted.org/packages/8a/08/9dee6dfd7f2aad6c30282d55c8f495b4dc1e4747b4e2bdbeb80572ddf312/jupyterthemes-0.20.0-py2.py3-none-any.whl (7.0MB)\n\u001b[K     |████████████████████████████████| 7.0MB 109kB/s eta 0:00:01\n\u001b[?25hCollecting lesscpy>=0.11.2\n\u001b[?25l  Downloading https://files.pythonhosted.org/packages/f8/d2/665cda6614e3556eaeb7553a3a2963624c2e3bc9636777a1bb654b87b027/lesscpy-0.14.0-py2.py3-none-any.whl (46kB)\n\u001b[K     |████████████████████████████████| 51kB 612kB/s  eta 0:00:01\n\u001b[?25hRequirement already satisfied: matplotlib>=1.4.3 in /home/nbuser/anaconda3_501/lib/python3.6/site-packages (from jupyterthemes) (3.0.0)\nRequirement already satisfied: jupyter-core in /home/nbuser/anaconda3_501/lib/python3.6/site-packages (from jupyterthemes) (4.4.0)\nRequirement already satisfied: ipython>=5.4.1 in /home/nbuser/anaconda3_501/lib/python3.6/site-packages (from jupyterthemes) (7.1.1)\nRequirement already satisfied: notebook>=5.6.0 in /home/nbuser/anaconda3_501/lib/python3.6/site-packages (from jupyterthemes) (5.7.2)\nRequirement already satisfied: six in /home/nbuser/anaconda3_501/lib/python3.6/site-packages (from lesscpy>=0.11.2->jupyterthemes) (1.11.0)\nRequirement already satisfied: ply in /home/nbuser/anaconda3_501/lib/python3.6/site-packages (from lesscpy>=0.11.2->jupyterthemes) (3.11)\nRequirement already satisfied: numpy>=1.10.0 in /home/nbuser/anaconda3_501/lib/python3.6/site-packages (from matplotlib>=1.4.3->jupyterthemes) (1.16.2)\nRequirement already satisfied: cycler>=0.10 in /home/nbuser/anaconda3_501/lib/python3.6/site-packages (from matplotlib>=1.4.3->jupyterthemes) (0.10.0)\nRequirement already satisfied: kiwisolver>=1.0.1 in /home/nbuser/anaconda3_501/lib/python3.6/site-packages (from matplotlib>=1.4.3->jupyterthemes) (1.0.1)\nRequirement already satisfied: pyparsing!=2.0.4,!=2.1.2,!=2.1.6,>=2.0.1 in /home/nbuser/anaconda3_501/lib/python3.6/site-packages (from matplotlib>=1.4.3->jupyterthemes) (2.3.0)\nRequirement already satisfied: python-dateutil>=2.1 in /home/nbuser/anaconda3_501/lib/python3.6/site-packages (from matplotlib>=1.4.3->jupyterthemes) (2.8.1)\nRequirement already satisfied: traitlets in /home/nbuser/anaconda3_501/lib/python3.6/site-packages (from jupyter-core->jupyterthemes) (4.3.2)\nRequirement already satisfied: pickleshare in /home/nbuser/anaconda3_501/lib/python3.6/site-packages (from ipython>=5.4.1->jupyterthemes) (0.7.5)\nRequirement already satisfied: decorator in /home/nbuser/anaconda3_501/lib/python3.6/site-packages (from ipython>=5.4.1->jupyterthemes) (4.3.0)\nRequirement already satisfied: prompt-toolkit<2.1.0,>=2.0.0 in /home/nbuser/anaconda3_501/lib/python3.6/site-packages (from ipython>=5.4.1->jupyterthemes) (2.0.7)\nRequirement already satisfied: jedi>=0.10 in /home/nbuser/anaconda3_501/lib/python3.6/site-packages (from ipython>=5.4.1->jupyterthemes) (0.13.1)\nRequirement already satisfied: backcall in /home/nbuser/anaconda3_501/lib/python3.6/site-packages (from ipython>=5.4.1->jupyterthemes) (0.1.0)\nRequirement already satisfied: setuptools>=18.5 in /home/nbuser/anaconda3_501/lib/python3.6/site-packages (from ipython>=5.4.1->jupyterthemes) (41.6.0)\nRequirement already satisfied: pexpect; sys_platform != \"win32\" in /home/nbuser/anaconda3_501/lib/python3.6/site-packages (from ipython>=5.4.1->jupyterthemes) (4.6.0)\nRequirement already satisfied: pygments in /home/nbuser/anaconda3_501/lib/python3.6/site-packages (from ipython>=5.4.1->jupyterthemes) (2.2.0)\nRequirement already satisfied: Send2Trash in /home/nbuser/anaconda3_501/lib/python3.6/site-packages (from notebook>=5.6.0->jupyterthemes) (1.5.0)\nRequirement already satisfied: jinja2 in /home/nbuser/anaconda3_501/lib/python3.6/site-packages (from notebook>=5.6.0->jupyterthemes) (2.10)\nRequirement already satisfied: tornado>=4 in /home/nbuser/anaconda3_501/lib/python3.6/site-packages (from notebook>=5.6.0->jupyterthemes) (4.5.3)\nRequirement already satisfied: terminado>=0.8.1 in /home/nbuser/anaconda3_501/lib/python3.6/site-packages (from notebook>=5.6.0->jupyterthemes) (0.8.1)\nRequirement already satisfied: prometheus-client in /home/nbuser/anaconda3_501/lib/python3.6/site-packages (from notebook>=5.6.0->jupyterthemes) (0.4.2)\nRequirement already satisfied: nbconvert in /home/nbuser/anaconda3_501/lib/python3.6/site-packages (from notebook>=5.6.0->jupyterthemes) (5.6.1)\nRequirement already satisfied: ipython-genutils in /home/nbuser/anaconda3_501/lib/python3.6/site-packages (from notebook>=5.6.0->jupyterthemes) (0.2.0)\nRequirement already satisfied: ipykernel in /home/nbuser/anaconda3_501/lib/python3.6/site-packages (from notebook>=5.6.0->jupyterthemes) (5.1.3)\nRequirement already satisfied: nbformat in /home/nbuser/anaconda3_501/lib/python3.6/site-packages (from notebook>=5.6.0->jupyterthemes) (4.4.0)\nRequirement already satisfied: pyzmq>=17 in /home/nbuser/anaconda3_501/lib/python3.6/site-packages (from notebook>=5.6.0->jupyterthemes) (17.1.2)\nRequirement already satisfied: jupyter-client>=5.2.0 in /home/nbuser/anaconda3_501/lib/python3.6/site-packages (from notebook>=5.6.0->jupyterthemes) (5.2.3)\nRequirement already satisfied: wcwidth in /home/nbuser/anaconda3_501/lib/python3.6/site-packages (from prompt-toolkit<2.1.0,>=2.0.0->ipython>=5.4.1->jupyterthemes) (0.1.7)\nRequirement already satisfied: parso>=0.3.0 in /home/nbuser/anaconda3_501/lib/python3.6/site-packages (from jedi>=0.10->ipython>=5.4.1->jupyterthemes) (0.3.1)\nRequirement already satisfied: ptyprocess>=0.5 in /home/nbuser/anaconda3_501/lib/python3.6/site-packages (from pexpect; sys_platform != \"win32\"->ipython>=5.4.1->jupyterthemes) (0.6.0)\nRequirement already satisfied: MarkupSafe>=0.23 in /home/nbuser/anaconda3_501/lib/python3.6/site-packages (from jinja2->notebook>=5.6.0->jupyterthemes) (1.1.0)\nRequirement already satisfied: testpath in /home/nbuser/anaconda3_501/lib/python3.6/site-packages (from nbconvert->notebook>=5.6.0->jupyterthemes) (0.4.2)\nRequirement already satisfied: entrypoints>=0.2.2 in /home/nbuser/anaconda3_501/lib/python3.6/site-packages (from nbconvert->notebook>=5.6.0->jupyterthemes) (0.2.3)\nRequirement already satisfied: defusedxml in /home/nbuser/anaconda3_501/lib/python3.6/site-packages (from nbconvert->notebook>=5.6.0->jupyterthemes) (0.5.0)\nRequirement already satisfied: bleach in /home/nbuser/anaconda3_501/lib/python3.6/site-packages (from nbconvert->notebook>=5.6.0->jupyterthemes) (1.5.0)\nRequirement already satisfied: mistune<2,>=0.8.1 in /home/nbuser/anaconda3_501/lib/python3.6/site-packages (from nbconvert->notebook>=5.6.0->jupyterthemes) (0.8.4)\nRequirement already satisfied: pandocfilters>=1.4.1 in /home/nbuser/anaconda3_501/lib/python3.6/site-packages (from nbconvert->notebook>=5.6.0->jupyterthemes) (1.4.2)\nRequirement already satisfied: jsonschema!=2.5.0,>=2.4 in /home/nbuser/anaconda3_501/lib/python3.6/site-packages (from nbformat->notebook>=5.6.0->jupyterthemes) (2.6.0)\nRequirement already satisfied: html5lib!=0.9999,!=0.99999,<0.99999999,>=0.999 in /home/nbuser/anaconda3_501/lib/python3.6/site-packages (from bleach->nbconvert->notebook>=5.6.0->jupyterthemes) (0.9999999)\nInstalling collected packages: lesscpy, jupyterthemes\nSuccessfully installed jupyterthemes-0.20.0 lesscpy-0.14.0\n\u001b[33mWARNING: You are using pip version 19.3.1; however, version 20.0.2 is available.\nYou should consider upgrading via the 'pip install --upgrade pip' command.\u001b[0m\n",
          "name": "stdout"
        }
      ]
    },
    {
      "metadata": {
        "trusted": true
      },
      "cell_type": "code",
      "source": "#accessing all the jupyter themes!\n!jt -l",
      "execution_count": 4,
      "outputs": [
        {
          "output_type": "stream",
          "text": "Available Themes: \r\n   chesterish\r\n   grade3\r\n   gruvboxd\r\n   gruvboxl\r\n   monokai\r\n   oceans16\r\n   onedork\r\n   solarizedd\r\n   solarizedl\r\n",
          "name": "stdout"
        }
      ]
    },
    {
      "metadata": {
        "trusted": true
      },
      "cell_type": "code",
      "source": "#For example, I want to change it to monokai theme\n!jt -t monokai\n\n#Reset the change\n#!jt -r",
      "execution_count": 6,
      "outputs": []
    }
  ],
  "metadata": {
    "kernelspec": {
      "name": "python36",
      "display_name": "Python 3.6",
      "language": "python"
    },
    "language_info": {
      "mimetype": "text/x-python",
      "nbconvert_exporter": "python",
      "name": "python",
      "pygments_lexer": "ipython3",
      "version": "3.6.6",
      "file_extension": ".py",
      "codemirror_mode": {
        "version": 3,
        "name": "ipython"
      }
    }
  },
  "nbformat": 4,
  "nbformat_minor": 2
}