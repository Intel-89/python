{
  "cells": [
    {
      "metadata": {
        "trusted": true
      },
      "cell_type": "code",
      "source": "import numpy as np\nimport pandas as pd\nimport sklearn\nprint('The current panda version is {}.'.format(pd.__version__))\nprint('The current scikit-learn version is {}.'.format(sklearn.__version__))\n#panda=float(pd.__version__[0:4])\n#sklearn=float(sklearn.__version__[0:4])\nif float(pd.__version__[0:4])<0.24:\n    !pip install --upgrade pandas\n    print('PANDA package upgraded successfully')\nif float(sklearn.__version__[0:4])<0.20:\n    !pip install --upgrade scikit-learn\n    print('SKLEARN package upgraded successfully')",
      "execution_count": 14,
      "outputs": [
        {
          "output_type": "stream",
          "text": "The current panda version is 0.24.1.\nThe current scikit-learn version is 0.20.2.\n",
          "name": "stdout"
        }
      ]
    },
    {
      "metadata": {
        "trusted": true
      },
      "cell_type": "code",
      "source": "float(pd.__version__[0:4])",
      "execution_count": 11,
      "outputs": [
        {
          "output_type": "execute_result",
          "execution_count": 11,
          "data": {
            "text/plain": "0.24"
          },
          "metadata": {}
        }
      ]
    },
    {
      "metadata": {
        "trusted": true
      },
      "cell_type": "code",
      "source": "sklearn.__version__",
      "execution_count": 3,
      "outputs": [
        {
          "output_type": "execute_result",
          "execution_count": 3,
          "data": {
            "text/plain": "'0.20.2'"
          },
          "metadata": {}
        }
      ]
    },
    {
      "metadata": {
        "trusted": true
      },
      "cell_type": "code",
      "source": "#!pip install --upgrade pandas # IF needed # !pip2 install -U pandas\n\n#!pip install --upgrade scikit-learn",
      "execution_count": 7,
      "outputs": [
        {
          "output_type": "stream",
          "text": "Collecting scikit-learn\n\u001b[?25l  Downloading https://files.pythonhosted.org/packages/18/d9/bea927c86bf78d583d517f24cbc87606cb333bfb3a5c99cb85b547305f0f/scikit_learn-0.20.2-cp35-cp35m-manylinux1_x86_64.whl (5.3MB)\n\u001b[K    100% |████████████████████████████████| 5.3MB 2.6MB/s eta 0:00:01    88% |████████████████████████████▍   | 4.7MB 4.7MB/s eta 0:00:01\n\u001b[?25hRequirement already satisfied, skipping upgrade: scipy>=0.13.3 in /home/nbuser/anaconda3_420/lib/python3.5/site-packages (from scikit-learn) (1.1.0)\nRequirement already satisfied, skipping upgrade: numpy>=1.8.2 in /home/nbuser/anaconda3_420/lib/python3.5/site-packages (from scikit-learn) (1.16.1)\nInstalling collected packages: scikit-learn\n  Found existing installation: scikit-learn 0.19.1\n    Uninstalling scikit-learn-0.19.1:\n      Successfully uninstalled scikit-learn-0.19.1\nSuccessfully installed scikit-learn-0.20.2\n\u001b[33mYou are using pip version 19.0.2, however version 19.0.3 is available.\nYou should consider upgrading via the 'pip install --upgrade pip' command.\u001b[0m\n",
          "name": "stdout"
        }
      ]
    },
    {
      "metadata": {
        "trusted": true
      },
      "cell_type": "code",
      "source": "# If you want to get the data from the website.\n#data = 'https://archive.ics.uci.edu/ml/machine-learning-databases/00383/risk_factors_cervical_cancer.csv'\n\n#Data on the loal drive.\ndata = 'risk_factors_cervical_cancer.csv'\ndf = pd.read_csv(data)",
      "execution_count": 6,
      "outputs": []
    },
    {
      "metadata": {
        "trusted": true
      },
      "cell_type": "code",
      "source": "print('Shape of the dataframe:', str(df.shape))\ndf.head()",
      "execution_count": 7,
      "outputs": [
        {
          "output_type": "stream",
          "text": "Shape of the dataframe: (858, 36)\n",
          "name": "stdout"
        },
        {
          "output_type": "execute_result",
          "execution_count": 7,
          "data": {
            "text/html": "<div>\n<style scoped>\n    .dataframe tbody tr th:only-of-type {\n        vertical-align: middle;\n    }\n\n    .dataframe tbody tr th {\n        vertical-align: top;\n    }\n\n    .dataframe thead th {\n        text-align: right;\n    }\n</style>\n<table border=\"1\" class=\"dataframe\">\n  <thead>\n    <tr style=\"text-align: right;\">\n      <th></th>\n      <th>Age</th>\n      <th>Number of sexual partners</th>\n      <th>First sexual intercourse</th>\n      <th>Num of pregnancies</th>\n      <th>Smokes</th>\n      <th>Smokes (years)</th>\n      <th>Smokes (packs/year)</th>\n      <th>Hormonal Contraceptives</th>\n      <th>Hormonal Contraceptives (years)</th>\n      <th>IUD</th>\n      <th>...</th>\n      <th>STDs: Time since first diagnosis</th>\n      <th>STDs: Time since last diagnosis</th>\n      <th>Dx:Cancer</th>\n      <th>Dx:CIN</th>\n      <th>Dx:HPV</th>\n      <th>Dx</th>\n      <th>Hinselmann</th>\n      <th>Schiller</th>\n      <th>Citology</th>\n      <th>Biopsy</th>\n    </tr>\n  </thead>\n  <tbody>\n    <tr>\n      <th>0</th>\n      <td>18</td>\n      <td>4.0</td>\n      <td>15.0</td>\n      <td>1.0</td>\n      <td>0.0</td>\n      <td>0.0</td>\n      <td>0.0</td>\n      <td>0.0</td>\n      <td>0.0</td>\n      <td>0.0</td>\n      <td>...</td>\n      <td>?</td>\n      <td>?</td>\n      <td>0</td>\n      <td>0</td>\n      <td>0</td>\n      <td>0</td>\n      <td>0</td>\n      <td>0</td>\n      <td>0</td>\n      <td>0</td>\n    </tr>\n    <tr>\n      <th>1</th>\n      <td>15</td>\n      <td>1.0</td>\n      <td>14.0</td>\n      <td>1.0</td>\n      <td>0.0</td>\n      <td>0.0</td>\n      <td>0.0</td>\n      <td>0.0</td>\n      <td>0.0</td>\n      <td>0.0</td>\n      <td>...</td>\n      <td>?</td>\n      <td>?</td>\n      <td>0</td>\n      <td>0</td>\n      <td>0</td>\n      <td>0</td>\n      <td>0</td>\n      <td>0</td>\n      <td>0</td>\n      <td>0</td>\n    </tr>\n    <tr>\n      <th>2</th>\n      <td>34</td>\n      <td>1.0</td>\n      <td>?</td>\n      <td>1.0</td>\n      <td>0.0</td>\n      <td>0.0</td>\n      <td>0.0</td>\n      <td>0.0</td>\n      <td>0.0</td>\n      <td>0.0</td>\n      <td>...</td>\n      <td>?</td>\n      <td>?</td>\n      <td>0</td>\n      <td>0</td>\n      <td>0</td>\n      <td>0</td>\n      <td>0</td>\n      <td>0</td>\n      <td>0</td>\n      <td>0</td>\n    </tr>\n    <tr>\n      <th>3</th>\n      <td>52</td>\n      <td>5.0</td>\n      <td>16.0</td>\n      <td>4.0</td>\n      <td>1.0</td>\n      <td>37.0</td>\n      <td>37.0</td>\n      <td>1.0</td>\n      <td>3.0</td>\n      <td>0.0</td>\n      <td>...</td>\n      <td>?</td>\n      <td>?</td>\n      <td>1</td>\n      <td>0</td>\n      <td>1</td>\n      <td>0</td>\n      <td>0</td>\n      <td>0</td>\n      <td>0</td>\n      <td>0</td>\n    </tr>\n    <tr>\n      <th>4</th>\n      <td>46</td>\n      <td>3.0</td>\n      <td>21.0</td>\n      <td>4.0</td>\n      <td>0.0</td>\n      <td>0.0</td>\n      <td>0.0</td>\n      <td>1.0</td>\n      <td>15.0</td>\n      <td>0.0</td>\n      <td>...</td>\n      <td>?</td>\n      <td>?</td>\n      <td>0</td>\n      <td>0</td>\n      <td>0</td>\n      <td>0</td>\n      <td>0</td>\n      <td>0</td>\n      <td>0</td>\n      <td>0</td>\n    </tr>\n  </tbody>\n</table>\n<p>5 rows × 36 columns</p>\n</div>",
            "text/plain": "   Age Number of sexual partners First sexual intercourse Num of pregnancies  \\\n0   18                       4.0                     15.0                1.0   \n1   15                       1.0                     14.0                1.0   \n2   34                       1.0                        ?                1.0   \n3   52                       5.0                     16.0                4.0   \n4   46                       3.0                     21.0                4.0   \n\n  Smokes Smokes (years) Smokes (packs/year) Hormonal Contraceptives  \\\n0    0.0            0.0                 0.0                     0.0   \n1    0.0            0.0                 0.0                     0.0   \n2    0.0            0.0                 0.0                     0.0   \n3    1.0           37.0                37.0                     1.0   \n4    0.0            0.0                 0.0                     1.0   \n\n  Hormonal Contraceptives (years)  IUD  ... STDs: Time since first diagnosis  \\\n0                             0.0  0.0  ...                                ?   \n1                             0.0  0.0  ...                                ?   \n2                             0.0  0.0  ...                                ?   \n3                             3.0  0.0  ...                                ?   \n4                            15.0  0.0  ...                                ?   \n\n  STDs: Time since last diagnosis Dx:Cancer Dx:CIN Dx:HPV Dx Hinselmann  \\\n0                               ?         0      0      0  0          0   \n1                               ?         0      0      0  0          0   \n2                               ?         0      0      0  0          0   \n3                               ?         1      0      1  0          0   \n4                               ?         0      0      0  0          0   \n\n  Schiller Citology Biopsy  \n0        0        0      0  \n1        0        0      0  \n2        0        0      0  \n3        0        0      0  \n4        0        0      0  \n\n[5 rows x 36 columns]"
          },
          "metadata": {}
        }
      ]
    },
    {
      "metadata": {
        "trusted": true
      },
      "cell_type": "code",
      "source": "## Replacing the ? with a NaN value\ndf.replace('?', np.nan, inplace=True)\ndf.head()",
      "execution_count": 8,
      "outputs": [
        {
          "output_type": "execute_result",
          "execution_count": 8,
          "data": {
            "text/html": "<div>\n<style scoped>\n    .dataframe tbody tr th:only-of-type {\n        vertical-align: middle;\n    }\n\n    .dataframe tbody tr th {\n        vertical-align: top;\n    }\n\n    .dataframe thead th {\n        text-align: right;\n    }\n</style>\n<table border=\"1\" class=\"dataframe\">\n  <thead>\n    <tr style=\"text-align: right;\">\n      <th></th>\n      <th>Age</th>\n      <th>Number of sexual partners</th>\n      <th>First sexual intercourse</th>\n      <th>Num of pregnancies</th>\n      <th>Smokes</th>\n      <th>Smokes (years)</th>\n      <th>Smokes (packs/year)</th>\n      <th>Hormonal Contraceptives</th>\n      <th>Hormonal Contraceptives (years)</th>\n      <th>IUD</th>\n      <th>...</th>\n      <th>STDs: Time since first diagnosis</th>\n      <th>STDs: Time since last diagnosis</th>\n      <th>Dx:Cancer</th>\n      <th>Dx:CIN</th>\n      <th>Dx:HPV</th>\n      <th>Dx</th>\n      <th>Hinselmann</th>\n      <th>Schiller</th>\n      <th>Citology</th>\n      <th>Biopsy</th>\n    </tr>\n  </thead>\n  <tbody>\n    <tr>\n      <th>0</th>\n      <td>18</td>\n      <td>4.0</td>\n      <td>15.0</td>\n      <td>1.0</td>\n      <td>0.0</td>\n      <td>0.0</td>\n      <td>0.0</td>\n      <td>0.0</td>\n      <td>0.0</td>\n      <td>0.0</td>\n      <td>...</td>\n      <td>NaN</td>\n      <td>NaN</td>\n      <td>0</td>\n      <td>0</td>\n      <td>0</td>\n      <td>0</td>\n      <td>0</td>\n      <td>0</td>\n      <td>0</td>\n      <td>0</td>\n    </tr>\n    <tr>\n      <th>1</th>\n      <td>15</td>\n      <td>1.0</td>\n      <td>14.0</td>\n      <td>1.0</td>\n      <td>0.0</td>\n      <td>0.0</td>\n      <td>0.0</td>\n      <td>0.0</td>\n      <td>0.0</td>\n      <td>0.0</td>\n      <td>...</td>\n      <td>NaN</td>\n      <td>NaN</td>\n      <td>0</td>\n      <td>0</td>\n      <td>0</td>\n      <td>0</td>\n      <td>0</td>\n      <td>0</td>\n      <td>0</td>\n      <td>0</td>\n    </tr>\n    <tr>\n      <th>2</th>\n      <td>34</td>\n      <td>1.0</td>\n      <td>NaN</td>\n      <td>1.0</td>\n      <td>0.0</td>\n      <td>0.0</td>\n      <td>0.0</td>\n      <td>0.0</td>\n      <td>0.0</td>\n      <td>0.0</td>\n      <td>...</td>\n      <td>NaN</td>\n      <td>NaN</td>\n      <td>0</td>\n      <td>0</td>\n      <td>0</td>\n      <td>0</td>\n      <td>0</td>\n      <td>0</td>\n      <td>0</td>\n      <td>0</td>\n    </tr>\n    <tr>\n      <th>3</th>\n      <td>52</td>\n      <td>5.0</td>\n      <td>16.0</td>\n      <td>4.0</td>\n      <td>1.0</td>\n      <td>37.0</td>\n      <td>37.0</td>\n      <td>1.0</td>\n      <td>3.0</td>\n      <td>0.0</td>\n      <td>...</td>\n      <td>NaN</td>\n      <td>NaN</td>\n      <td>1</td>\n      <td>0</td>\n      <td>1</td>\n      <td>0</td>\n      <td>0</td>\n      <td>0</td>\n      <td>0</td>\n      <td>0</td>\n    </tr>\n    <tr>\n      <th>4</th>\n      <td>46</td>\n      <td>3.0</td>\n      <td>21.0</td>\n      <td>4.0</td>\n      <td>0.0</td>\n      <td>0.0</td>\n      <td>0.0</td>\n      <td>1.0</td>\n      <td>15.0</td>\n      <td>0.0</td>\n      <td>...</td>\n      <td>NaN</td>\n      <td>NaN</td>\n      <td>0</td>\n      <td>0</td>\n      <td>0</td>\n      <td>0</td>\n      <td>0</td>\n      <td>0</td>\n      <td>0</td>\n      <td>0</td>\n    </tr>\n  </tbody>\n</table>\n<p>5 rows × 36 columns</p>\n</div>",
            "text/plain": "   Age Number of sexual partners First sexual intercourse Num of pregnancies  \\\n0   18                       4.0                     15.0                1.0   \n1   15                       1.0                     14.0                1.0   \n2   34                       1.0                      NaN                1.0   \n3   52                       5.0                     16.0                4.0   \n4   46                       3.0                     21.0                4.0   \n\n  Smokes Smokes (years) Smokes (packs/year) Hormonal Contraceptives  \\\n0    0.0            0.0                 0.0                     0.0   \n1    0.0            0.0                 0.0                     0.0   \n2    0.0            0.0                 0.0                     0.0   \n3    1.0           37.0                37.0                     1.0   \n4    0.0            0.0                 0.0                     1.0   \n\n  Hormonal Contraceptives (years)  IUD  ... STDs: Time since first diagnosis  \\\n0                             0.0  0.0  ...                              NaN   \n1                             0.0  0.0  ...                              NaN   \n2                             0.0  0.0  ...                              NaN   \n3                             3.0  0.0  ...                              NaN   \n4                            15.0  0.0  ...                              NaN   \n\n  STDs: Time since last diagnosis Dx:Cancer Dx:CIN Dx:HPV Dx Hinselmann  \\\n0                             NaN         0      0      0  0          0   \n1                             NaN         0      0      0  0          0   \n2                             NaN         0      0      0  0          0   \n3                             NaN         1      0      1  0          0   \n4                             NaN         0      0      0  0          0   \n\n  Schiller Citology Biopsy  \n0        0        0      0  \n1        0        0      0  \n2        0        0      0  \n3        0        0      0  \n4        0        0      0  \n\n[5 rows x 36 columns]"
          },
          "metadata": {}
        }
      ]
    },
    {
      "metadata": {
        "trusted": true
      },
      "cell_type": "code",
      "source": "df.isna().sum()",
      "execution_count": 9,
      "outputs": [
        {
          "output_type": "execute_result",
          "execution_count": 9,
          "data": {
            "text/plain": "Age                                     0\nNumber of sexual partners              26\nFirst sexual intercourse                7\nNum of pregnancies                     56\nSmokes                                 13\nSmokes (years)                         13\nSmokes (packs/year)                    13\nHormonal Contraceptives               108\nHormonal Contraceptives (years)       108\nIUD                                   117\nIUD (years)                           117\nSTDs                                  105\nSTDs (number)                         105\nSTDs:condylomatosis                   105\nSTDs:cervical condylomatosis          105\nSTDs:vaginal condylomatosis           105\nSTDs:vulvo-perineal condylomatosis    105\nSTDs:syphilis                         105\nSTDs:pelvic inflammatory disease      105\nSTDs:genital herpes                   105\nSTDs:molluscum contagiosum            105\nSTDs:AIDS                             105\nSTDs:HIV                              105\nSTDs:Hepatitis B                      105\nSTDs:HPV                              105\nSTDs: Number of diagnosis               0\nSTDs: Time since first diagnosis      787\nSTDs: Time since last diagnosis       787\nDx:Cancer                               0\nDx:CIN                                  0\nDx:HPV                                  0\nDx                                      0\nHinselmann                              0\nSchiller                                0\nCitology                                0\nBiopsy                                  0\ndtype: int64"
          },
          "metadata": {}
        }
      ]
    },
    {
      "metadata": {
        "trusted": true
      },
      "cell_type": "code",
      "source": "## Setting a threshold of 90% to delete columns that have more than 90% NaN values.\nthresh = df.Age.count() * .30\ndf.dropna(axis=1,thresh=thresh, inplace=True)",
      "execution_count": 25,
      "outputs": []
    },
    {
      "metadata": {
        "trusted": true
      },
      "cell_type": "code",
      "source": "## New shape after dropping the columns. We went from 36 columns down to 16\nprint('Shape after transformation : ', str(df.shape))",
      "execution_count": 26,
      "outputs": [
        {
          "output_type": "stream",
          "text": "Shape after transformation :  (858, 16)\n",
          "name": "stdout"
        }
      ]
    },
    {
      "metadata": {
        "trusted": true
      },
      "cell_type": "code",
      "source": "# Now we need to eliminate the NaN values left in the dataset. As you can see with this filter there are quite a lot of rows.\ndf.where(df['First sexual intercourse'].isna()).head(10)",
      "execution_count": 27,
      "outputs": [
        {
          "output_type": "execute_result",
          "execution_count": 27,
          "data": {
            "text/html": "<div>\n<style scoped>\n    .dataframe tbody tr th:only-of-type {\n        vertical-align: middle;\n    }\n\n    .dataframe tbody tr th {\n        vertical-align: top;\n    }\n\n    .dataframe thead th {\n        text-align: right;\n    }\n</style>\n<table border=\"1\" class=\"dataframe\">\n  <thead>\n    <tr style=\"text-align: right;\">\n      <th></th>\n      <th>Age</th>\n      <th>Number of sexual partners</th>\n      <th>First sexual intercourse</th>\n      <th>Num of pregnancies</th>\n      <th>Smokes</th>\n      <th>Smokes (years)</th>\n      <th>Smokes (packs/year)</th>\n      <th>STDs: Number of diagnosis</th>\n      <th>Dx:Cancer</th>\n      <th>Dx:CIN</th>\n      <th>Dx:HPV</th>\n      <th>Dx</th>\n      <th>Hinselmann</th>\n      <th>Schiller</th>\n      <th>Citology</th>\n      <th>Biopsy</th>\n    </tr>\n  </thead>\n  <tbody>\n    <tr>\n      <th>0</th>\n      <td>NaN</td>\n      <td>NaN</td>\n      <td>NaN</td>\n      <td>NaN</td>\n      <td>NaN</td>\n      <td>NaN</td>\n      <td>NaN</td>\n      <td>NaN</td>\n      <td>NaN</td>\n      <td>NaN</td>\n      <td>NaN</td>\n      <td>NaN</td>\n      <td>NaN</td>\n      <td>NaN</td>\n      <td>NaN</td>\n      <td>NaN</td>\n    </tr>\n    <tr>\n      <th>1</th>\n      <td>NaN</td>\n      <td>NaN</td>\n      <td>NaN</td>\n      <td>NaN</td>\n      <td>NaN</td>\n      <td>NaN</td>\n      <td>NaN</td>\n      <td>NaN</td>\n      <td>NaN</td>\n      <td>NaN</td>\n      <td>NaN</td>\n      <td>NaN</td>\n      <td>NaN</td>\n      <td>NaN</td>\n      <td>NaN</td>\n      <td>NaN</td>\n    </tr>\n    <tr>\n      <th>2</th>\n      <td>34.0</td>\n      <td>1.0</td>\n      <td>NaN</td>\n      <td>1.0</td>\n      <td>0.0</td>\n      <td>0.0</td>\n      <td>0.0</td>\n      <td>0.0</td>\n      <td>0.0</td>\n      <td>0.0</td>\n      <td>0.0</td>\n      <td>0.0</td>\n      <td>0.0</td>\n      <td>0.0</td>\n      <td>0.0</td>\n      <td>0.0</td>\n    </tr>\n    <tr>\n      <th>3</th>\n      <td>NaN</td>\n      <td>NaN</td>\n      <td>NaN</td>\n      <td>NaN</td>\n      <td>NaN</td>\n      <td>NaN</td>\n      <td>NaN</td>\n      <td>NaN</td>\n      <td>NaN</td>\n      <td>NaN</td>\n      <td>NaN</td>\n      <td>NaN</td>\n      <td>NaN</td>\n      <td>NaN</td>\n      <td>NaN</td>\n      <td>NaN</td>\n    </tr>\n    <tr>\n      <th>4</th>\n      <td>NaN</td>\n      <td>NaN</td>\n      <td>NaN</td>\n      <td>NaN</td>\n      <td>NaN</td>\n      <td>NaN</td>\n      <td>NaN</td>\n      <td>NaN</td>\n      <td>NaN</td>\n      <td>NaN</td>\n      <td>NaN</td>\n      <td>NaN</td>\n      <td>NaN</td>\n      <td>NaN</td>\n      <td>NaN</td>\n      <td>NaN</td>\n    </tr>\n    <tr>\n      <th>5</th>\n      <td>NaN</td>\n      <td>NaN</td>\n      <td>NaN</td>\n      <td>NaN</td>\n      <td>NaN</td>\n      <td>NaN</td>\n      <td>NaN</td>\n      <td>NaN</td>\n      <td>NaN</td>\n      <td>NaN</td>\n      <td>NaN</td>\n      <td>NaN</td>\n      <td>NaN</td>\n      <td>NaN</td>\n      <td>NaN</td>\n      <td>NaN</td>\n    </tr>\n    <tr>\n      <th>6</th>\n      <td>NaN</td>\n      <td>NaN</td>\n      <td>NaN</td>\n      <td>NaN</td>\n      <td>NaN</td>\n      <td>NaN</td>\n      <td>NaN</td>\n      <td>NaN</td>\n      <td>NaN</td>\n      <td>NaN</td>\n      <td>NaN</td>\n      <td>NaN</td>\n      <td>NaN</td>\n      <td>NaN</td>\n      <td>NaN</td>\n      <td>NaN</td>\n    </tr>\n    <tr>\n      <th>7</th>\n      <td>NaN</td>\n      <td>NaN</td>\n      <td>NaN</td>\n      <td>NaN</td>\n      <td>NaN</td>\n      <td>NaN</td>\n      <td>NaN</td>\n      <td>NaN</td>\n      <td>NaN</td>\n      <td>NaN</td>\n      <td>NaN</td>\n      <td>NaN</td>\n      <td>NaN</td>\n      <td>NaN</td>\n      <td>NaN</td>\n      <td>NaN</td>\n    </tr>\n    <tr>\n      <th>8</th>\n      <td>NaN</td>\n      <td>NaN</td>\n      <td>NaN</td>\n      <td>NaN</td>\n      <td>NaN</td>\n      <td>NaN</td>\n      <td>NaN</td>\n      <td>NaN</td>\n      <td>NaN</td>\n      <td>NaN</td>\n      <td>NaN</td>\n      <td>NaN</td>\n      <td>NaN</td>\n      <td>NaN</td>\n      <td>NaN</td>\n      <td>NaN</td>\n    </tr>\n    <tr>\n      <th>9</th>\n      <td>NaN</td>\n      <td>NaN</td>\n      <td>NaN</td>\n      <td>NaN</td>\n      <td>NaN</td>\n      <td>NaN</td>\n      <td>NaN</td>\n      <td>NaN</td>\n      <td>NaN</td>\n      <td>NaN</td>\n      <td>NaN</td>\n      <td>NaN</td>\n      <td>NaN</td>\n      <td>NaN</td>\n      <td>NaN</td>\n      <td>NaN</td>\n    </tr>\n  </tbody>\n</table>\n</div>",
            "text/plain": "    Age Number of sexual partners First sexual intercourse Num of pregnancies  \\\n0   NaN                       NaN                      NaN                NaN   \n1   NaN                       NaN                      NaN                NaN   \n2  34.0                       1.0                      NaN                1.0   \n3   NaN                       NaN                      NaN                NaN   \n4   NaN                       NaN                      NaN                NaN   \n5   NaN                       NaN                      NaN                NaN   \n6   NaN                       NaN                      NaN                NaN   \n7   NaN                       NaN                      NaN                NaN   \n8   NaN                       NaN                      NaN                NaN   \n9   NaN                       NaN                      NaN                NaN   \n\n  Smokes Smokes (years) Smokes (packs/year)  STDs: Number of diagnosis  \\\n0    NaN            NaN                 NaN                        NaN   \n1    NaN            NaN                 NaN                        NaN   \n2    0.0            0.0                 0.0                        0.0   \n3    NaN            NaN                 NaN                        NaN   \n4    NaN            NaN                 NaN                        NaN   \n5    NaN            NaN                 NaN                        NaN   \n6    NaN            NaN                 NaN                        NaN   \n7    NaN            NaN                 NaN                        NaN   \n8    NaN            NaN                 NaN                        NaN   \n9    NaN            NaN                 NaN                        NaN   \n\n   Dx:Cancer  Dx:CIN  Dx:HPV   Dx  Hinselmann  Schiller  Citology  Biopsy  \n0        NaN     NaN     NaN  NaN         NaN       NaN       NaN     NaN  \n1        NaN     NaN     NaN  NaN         NaN       NaN       NaN     NaN  \n2        0.0     0.0     0.0  0.0         0.0       0.0       0.0     0.0  \n3        NaN     NaN     NaN  NaN         NaN       NaN       NaN     NaN  \n4        NaN     NaN     NaN  NaN         NaN       NaN       NaN     NaN  \n5        NaN     NaN     NaN  NaN         NaN       NaN       NaN     NaN  \n6        NaN     NaN     NaN  NaN         NaN       NaN       NaN     NaN  \n7        NaN     NaN     NaN  NaN         NaN       NaN       NaN     NaN  \n8        NaN     NaN     NaN  NaN         NaN       NaN       NaN     NaN  \n9        NaN     NaN     NaN  NaN         NaN       NaN       NaN     NaN  "
          },
          "metadata": {}
        }
      ]
    },
    {
      "metadata": {
        "trusted": true
      },
      "cell_type": "code",
      "source": "# This is just the top of the file so we can compare it in the next few steps as we impute the data with the mean\n# value of the dataset column.\n\ndf.head()",
      "execution_count": 28,
      "outputs": [
        {
          "output_type": "execute_result",
          "execution_count": 28,
          "data": {
            "text/html": "<div>\n<style scoped>\n    .dataframe tbody tr th:only-of-type {\n        vertical-align: middle;\n    }\n\n    .dataframe tbody tr th {\n        vertical-align: top;\n    }\n\n    .dataframe thead th {\n        text-align: right;\n    }\n</style>\n<table border=\"1\" class=\"dataframe\">\n  <thead>\n    <tr style=\"text-align: right;\">\n      <th></th>\n      <th>Age</th>\n      <th>Number of sexual partners</th>\n      <th>First sexual intercourse</th>\n      <th>Num of pregnancies</th>\n      <th>Smokes</th>\n      <th>Smokes (years)</th>\n      <th>Smokes (packs/year)</th>\n      <th>STDs: Number of diagnosis</th>\n      <th>Dx:Cancer</th>\n      <th>Dx:CIN</th>\n      <th>Dx:HPV</th>\n      <th>Dx</th>\n      <th>Hinselmann</th>\n      <th>Schiller</th>\n      <th>Citology</th>\n      <th>Biopsy</th>\n    </tr>\n  </thead>\n  <tbody>\n    <tr>\n      <th>0</th>\n      <td>18</td>\n      <td>4.0</td>\n      <td>15.0</td>\n      <td>1.0</td>\n      <td>0.0</td>\n      <td>0.0</td>\n      <td>0.0</td>\n      <td>0</td>\n      <td>0</td>\n      <td>0</td>\n      <td>0</td>\n      <td>0</td>\n      <td>0</td>\n      <td>0</td>\n      <td>0</td>\n      <td>0</td>\n    </tr>\n    <tr>\n      <th>1</th>\n      <td>15</td>\n      <td>1.0</td>\n      <td>14.0</td>\n      <td>1.0</td>\n      <td>0.0</td>\n      <td>0.0</td>\n      <td>0.0</td>\n      <td>0</td>\n      <td>0</td>\n      <td>0</td>\n      <td>0</td>\n      <td>0</td>\n      <td>0</td>\n      <td>0</td>\n      <td>0</td>\n      <td>0</td>\n    </tr>\n    <tr>\n      <th>2</th>\n      <td>34</td>\n      <td>1.0</td>\n      <td>NaN</td>\n      <td>1.0</td>\n      <td>0.0</td>\n      <td>0.0</td>\n      <td>0.0</td>\n      <td>0</td>\n      <td>0</td>\n      <td>0</td>\n      <td>0</td>\n      <td>0</td>\n      <td>0</td>\n      <td>0</td>\n      <td>0</td>\n      <td>0</td>\n    </tr>\n    <tr>\n      <th>3</th>\n      <td>52</td>\n      <td>5.0</td>\n      <td>16.0</td>\n      <td>4.0</td>\n      <td>1.0</td>\n      <td>37.0</td>\n      <td>37.0</td>\n      <td>0</td>\n      <td>1</td>\n      <td>0</td>\n      <td>1</td>\n      <td>0</td>\n      <td>0</td>\n      <td>0</td>\n      <td>0</td>\n      <td>0</td>\n    </tr>\n    <tr>\n      <th>4</th>\n      <td>46</td>\n      <td>3.0</td>\n      <td>21.0</td>\n      <td>4.0</td>\n      <td>0.0</td>\n      <td>0.0</td>\n      <td>0.0</td>\n      <td>0</td>\n      <td>0</td>\n      <td>0</td>\n      <td>0</td>\n      <td>0</td>\n      <td>0</td>\n      <td>0</td>\n      <td>0</td>\n      <td>0</td>\n    </tr>\n  </tbody>\n</table>\n</div>",
            "text/plain": "   Age Number of sexual partners First sexual intercourse Num of pregnancies  \\\n0   18                       4.0                     15.0                1.0   \n1   15                       1.0                     14.0                1.0   \n2   34                       1.0                      NaN                1.0   \n3   52                       5.0                     16.0                4.0   \n4   46                       3.0                     21.0                4.0   \n\n  Smokes Smokes (years) Smokes (packs/year)  STDs: Number of diagnosis  \\\n0    0.0            0.0                 0.0                          0   \n1    0.0            0.0                 0.0                          0   \n2    0.0            0.0                 0.0                          0   \n3    1.0           37.0                37.0                          0   \n4    0.0            0.0                 0.0                          0   \n\n   Dx:Cancer  Dx:CIN  Dx:HPV  Dx  Hinselmann  Schiller  Citology  Biopsy  \n0          0       0       0   0           0         0         0       0  \n1          0       0       0   0           0         0         0       0  \n2          0       0       0   0           0         0         0       0  \n3          1       0       1   0           0         0         0       0  \n4          0       0       0   0           0         0         0       0  "
          },
          "metadata": {}
        }
      ]
    },
    {
      "metadata": {
        "trusted": true
      },
      "cell_type": "code",
      "source": "## Seperate the data by feature and class\ny1 = df[['Hinselmann','Schiller','Citology','Biopsy']] #< We have 4 target columns. The professor wasnt sure it would work on 4.\n\ny = df[['Hinselmann']]  # <<< In this example we are only going to use one target variable. I happen to choose Hinselmann.\nX = df.iloc[:,:-4]\nfrom sklearn.impute import SimpleImputer\n## Now we will take a look at the rows which contain NaN values and have NaN and  use the \"mean\" to fill in the values.\nfrom sklearn.impute import SimpleImputer\nimp = SimpleImputer(strategy=\"mean\")\nX = imp.fit_transform(X).astype(float)\nprint(X)",
      "execution_count": 14,
      "outputs": [
        {
          "output_type": "stream",
          "text": "[[18.          4.         15.         ...  0.          0.\n   0.        ]\n [15.          1.         14.         ...  0.          0.\n   0.        ]\n [34.          1.         16.99529965 ...  0.          0.\n   0.        ]\n ...\n [25.          2.         17.         ...  0.          0.\n   0.        ]\n [33.          2.         24.         ...  0.          0.\n   0.        ]\n [29.          2.         20.         ...  0.          0.\n   0.        ]]\n",
          "name": "stdout"
        }
      ]
    },
    {
      "metadata": {
        "trusted": true
      },
      "cell_type": "code",
      "source": "# Showing the shape of the data before we place it into the machine learning pipeline.\nprint('Columns before split:',str(df.shape[1]))\nprint('X columns after split:',str(X.shape[1]))\nprint('y columns after split:',str(y.shape[1]))\nprint('Total rows in dataset:', str(y.shape[0]))",
      "execution_count": 15,
      "outputs": [
        {
          "output_type": "stream",
          "text": "Columns before split: 16\nX columns after split: 12\ny columns after split: 1\nTotal rows in dataset: 858\n",
          "name": "stdout"
        }
      ]
    },
    {
      "metadata": {},
      "cell_type": "markdown",
      "source": "## We achieved 95% Accuracy on our predictive model"
    },
    {
      "metadata": {
        "trusted": true
      },
      "cell_type": "code",
      "source": "## Split the data in to test and training sets. \n## X will be the imputed data that no longer has the NaN values.\n## y will be the Hinselmann target since we do not know if PCA can predict on 4 targets. \n\nfrom sklearn.model_selection import train_test_split\nX_train, X_test, y_train, y_test = train_test_split(X, y,test_size=0.20,stratify=y,random_state=1)\n\nfrom sklearn.preprocessing import StandardScaler\nfrom sklearn.decomposition import PCA       ## Transformer\nfrom sklearn.linear_model import LogisticRegression ## Estimator\n\n#Running items into the pipeline\nfrom sklearn.pipeline import make_pipeline\npipe_lr = make_pipeline(StandardScaler(),\n                        PCA(n_components=2),\n                        LogisticRegression(random_state=1))\n\npipe_lr.fit(X_train, y_train)\ny_pred = pipe_lr.predict(X_test)\nprint('Test Accuracy: %.3f' % pipe_lr.score(X_test, y_test))",
      "execution_count": 16,
      "outputs": [
        {
          "output_type": "stream",
          "text": "Test Accuracy: 0.959\n",
          "name": "stdout"
        },
        {
          "output_type": "stream",
          "text": "/home/nbuser/anaconda3_420/lib/python3.5/site-packages/sklearn/linear_model/logistic.py:433: FutureWarning: Default solver will be changed to 'lbfgs' in 0.22. Specify a solver to silence this warning.\n  FutureWarning)\n/home/nbuser/anaconda3_420/lib/python3.5/site-packages/sklearn/utils/validation.py:761: DataConversionWarning: A column-vector y was passed when a 1d array was expected. Please change the shape of y to (n_samples, ), for example using ravel().\n  y = column_or_1d(y, warn=True)\n",
          "name": "stderr"
        }
      ]
    },
    {
      "metadata": {
        "trusted": true
      },
      "cell_type": "code",
      "source": "## IMPORTING RESOURCES AND LIBRARIES--------------------------------------------------------------------------------------------------\nimport numpy as np                                                   #- Importing NUMPY Library\nimport pandas as pd                                                  #- Importing PANDAS Library\nfrom sklearn.datasets import load_iris                               #- Dataset Lib.\nfrom sklearn.preprocessing import StandardScaler                     #- SKLEARN Standard Scaler\nfrom sklearn.linear_model import LogisticRegression                  #- SKLEARN LogisticRegression\nfrom sklearn.tree import DecisionTreeClassifier                      #- SKLEARN DecisionTreeClassifier     \nfrom sklearn.discriminant_analysis import LinearDiscriminantAnalysis #- SKLEARN Linear Discriminant Analysis [LDA]\nfrom sklearn.decomposition import PCA                                #- SKLEARN Principal Component Analysis [PCA]\nfrom sklearn.decomposition import KernelPCA                          #- SKLEARN Kernel Principal Component Analysis [KPCA]\nfrom sklearn.svm import SVC                                          #- SKLEARN SVC\nfrom sklearn.neighbors import KNeighborsClassifier                   #- SKLEARN KNeighborsClassifier\nfrom sklearn import metrics                                          #- SKLEARN metrics\nfrom sklearn import model_selection                                  #- SKLEARN model_selection\nfrom sklearn.model_selection import train_test_split                 #- SKLEARN train_test_split\nfrom sklearn.naive_bayes import GaussianNB                           #- SKLEARN Gaussian Naive Bayes\nfrom sklearn.model_selection import cross_val_score                  #- SKLEARN cross_val_score\nimport matplotlib.pyplot as plt                                      #- MATPLOTLIB for the graphs \n#%matplotlib inline                                                  #- INLINE resource for line plots\nfrom sklearn.pipeline import make_pipeline                           #- SKLEARN resource for pipeline\n##------------------------------------------------------------------------------------------------------------------------------------\n!pip install mlxtend                                                 #- Adding mlxtend Package\nfrom mlxtend.feature_selection import SequentialFeatureSelector as sfs\nfrom mlxtend.classifier import EnsembleVoteClassifier\nfrom mlxtend.plotting import plot_decision_regions\nimport warnings\n##------------------------------------------------------------------------------------------------------------------------------------",
      "execution_count": 17,
      "outputs": [
        {
          "output_type": "stream",
          "text": "/home/nbuser/anaconda3_420/lib/python3.5/site-packages/matplotlib/font_manager.py:281: UserWarning: Matplotlib is building the font cache using fc-list. This may take a moment.\n  'Matplotlib is building the font cache using fc-list. '\n",
          "name": "stderr"
        },
        {
          "output_type": "stream",
          "text": "Collecting mlxtend\n\u001b[?25l  Downloading https://files.pythonhosted.org/packages/16/e6/30e50ed9c053a1530c83149090e1f5fd9fccc8503dca2ecce1bb52f34de0/mlxtend-0.15.0.0-py2.py3-none-any.whl (1.3MB)\n\u001b[K    100% |████████████████████████████████| 1.3MB 2.6MB/s ta 0:00:011\n\u001b[?25hRequirement already satisfied: matplotlib>=1.5.1 in /home/nbuser/anaconda3_420/lib/python3.5/site-packages (from mlxtend) (2.1.1)\nRequirement already satisfied: scipy>=0.17 in /home/nbuser/anaconda3_420/lib/python3.5/site-packages (from mlxtend) (1.1.0)\nRequirement already satisfied: scikit-learn>=0.18 in /home/nbuser/anaconda3_420/lib/python3.5/site-packages (from mlxtend) (0.20.2)\nRequirement already satisfied: pandas>=0.17.1 in /home/nbuser/anaconda3_420/lib/python3.5/site-packages (from mlxtend) (0.24.1)\nRequirement already satisfied: numpy>=1.10.4 in /home/nbuser/anaconda3_420/lib/python3.5/site-packages (from mlxtend) (1.16.1)\nRequirement already satisfied: setuptools in /home/nbuser/anaconda3_420/lib/python3.5/site-packages (from mlxtend) (40.8.0)\nRequirement already satisfied: six>=1.10 in /home/nbuser/anaconda3_420/lib/python3.5/site-packages (from matplotlib>=1.5.1->mlxtend) (1.11.0)\nRequirement already satisfied: python-dateutil>=2.0 in /home/nbuser/anaconda3_420/lib/python3.5/site-packages (from matplotlib>=1.5.1->mlxtend) (2.7.5)\nRequirement already satisfied: pytz in /home/nbuser/anaconda3_420/lib/python3.5/site-packages (from matplotlib>=1.5.1->mlxtend) (2016.6.1)\nRequirement already satisfied: cycler>=0.10 in /home/nbuser/anaconda3_420/lib/python3.5/site-packages (from matplotlib>=1.5.1->mlxtend) (0.10.0)\nRequirement already satisfied: pyparsing!=2.0.4,!=2.1.2,!=2.1.6,>=2.0.1 in /home/nbuser/anaconda3_420/lib/python3.5/site-packages (from matplotlib>=1.5.1->mlxtend) (2.1.4)\nInstalling collected packages: mlxtend\nSuccessfully installed mlxtend-0.15.0.0\n",
          "name": "stdout"
        }
      ]
    },
    {
      "metadata": {},
      "cell_type": "markdown",
      "source": "### Scores per algorithm using PCA Dimensionality Reduction Method"
    },
    {
      "metadata": {
        "trusted": true
      },
      "cell_type": "code",
      "source": "# prepare configuration for cross validation test harness   # REF. -https://machinelearningmastery.com/compare-machine-learning-algorithms-python-scikit-learn/\n# prepare models\n\nmodels = []\nmodels.append(('Logistic Regression        [LR]   ', LogisticRegression(random_state=1)))\nmodels.append(('Logistic Regression(Reg.L1)[LR-l1]', LogisticRegression(penalty='l1',random_state=1)))\nmodels.append(('Logistic Regression(Reg.L2)[LR-l2]', LogisticRegression(penalty='l2',random_state=1)))\nmodels.append(('Decision Tree Classifier   [DT]   ', DecisionTreeClassifier(random_state=1)))\nmodels.append(('Support Vector Classifier  [SVC]  ', SVC(kernel = 'linear',random_state=1)))\nmodels.append(('Kernel SVC                 [KSVC] ', SVC(kernel = 'rbf', random_state=1)))\nmodels.append(('KNeighbors Classifier      [KNN]  ', KNeighborsClassifier(n_neighbors=5)))\nmodels.append(('GaussianNB                 [GNB]  ', GaussianNB()))\n\n# evaluate each model in turn\nresults = []\nnames = []\nscoring = 'accuracy'\nfor name, model in models:\n    kfold = model_selection.KFold(n_splits=10, random_state=5)\n    pipe_lr= make_pipeline(StandardScaler(),PCA(n_components=2),model)\n    cv_results = cross_val_score(pipe_lr,X,y,scoring=scoring,cv=kfold,n_jobs=-1)\n    #results.append(cv_results)\n    names.append(name)\n    #msg = \"%s: %f (%f)\" % (name, cv_results.mean(), cv_results.std())\n    msg = \"%s: %f \" % (name, cv_results.mean())\n    print(msg)",
      "execution_count": 18,
      "outputs": [
        {
          "output_type": "stream",
          "text": "Logistic Regression        [LR]   : 0.959261 \nLogistic Regression(Reg.L1)[LR-l1]: 0.959261 \nLogistic Regression(Reg.L2)[LR-l2]: 0.959261 \nDecision Tree Classifier   [DT]   : 0.923078 \nSupport Vector Classifier  [SVC]  : 0.959261 \nKernel SVC                 [KSVC] : 0.959261 \nKNeighbors Classifier      [KNN]  : 0.959261 \nGaussianNB                 [GNB]  : 0.924241 \n",
          "name": "stdout"
        }
      ]
    },
    {
      "metadata": {},
      "cell_type": "markdown",
      "source": "### Scores per algorithm using LDA Dimensionality Reduction Method"
    },
    {
      "metadata": {
        "trusted": true
      },
      "cell_type": "code",
      "source": "# evaluate each model in turn\nresults = []\nnames = []\nscoring = 'accuracy'\nfor name, model in models:\n    kfold = model_selection.KFold(n_splits=10, random_state=5)\n    pipe_lr= make_pipeline(StandardScaler(),LinearDiscriminantAnalysis(n_components=2),model)\n    cv_results = cross_val_score(pipe_lr,X,y,scoring=scoring,cv=kfold,n_jobs=-1)\n    #results.append(cv_results)\n    names.append(name)\n    #msg = \"%s: %f (%f)\" % (name, cv_results.mean(), cv_results.std())\n    msg = \"%s: %f \" % (name, cv_results.mean())\n    print(msg)",
      "execution_count": 19,
      "outputs": [
        {
          "output_type": "stream",
          "text": "Logistic Regression        [LR]   : 0.956922 \nLogistic Regression(Reg.L1)[LR-l1]: 0.956922 \nLogistic Regression(Reg.L2)[LR-l2]: 0.956922 \nDecision Tree Classifier   [DT]   : 0.938249 \nSupport Vector Classifier  [SVC]  : 0.959261 \nKernel SVC                 [KSVC] : 0.958085 \nKNeighbors Classifier      [KNN]  : 0.951040 \nGaussianNB                 [GNB]  : 0.935910 \n",
          "name": "stdout"
        }
      ]
    },
    {
      "metadata": {},
      "cell_type": "markdown",
      "source": "### Scores per algorithm using KPCA Dimensionality Reduction Method"
    },
    {
      "metadata": {
        "trusted": true
      },
      "cell_type": "code",
      "source": "# evaluate each model in turn\nresults = []\nnames = []\nscoring = 'accuracy'\nfor name, model in models:\n    kfold = model_selection.KFold(n_splits=10, random_state=5)\n    pipe_lr= make_pipeline(StandardScaler(),KernelPCA(n_components=2, kernel='rbf'),model)\n    cv_results = cross_val_score(pipe_lr,X,y,scoring=scoring,cv=kfold,n_jobs=-1)\n    #results.append(cv_results)\n    names.append(name)\n    #msg = \"%s: %f (%f)\" % (name, cv_results.mean(), cv_results.std())\n    msg = \"%s: %f \" % (name, cv_results.mean())\n    print(msg)",
      "execution_count": 20,
      "outputs": [
        {
          "output_type": "stream",
          "text": "Logistic Regression        [LR]   : 0.959261 \nLogistic Regression(Reg.L1)[LR-l1]: 0.959261 \nLogistic Regression(Reg.L2)[LR-l2]: 0.959261 \nDecision Tree Classifier   [DT]   : 0.933639 \nSupport Vector Classifier  [SVC]  : 0.959261 \nKernel SVC                 [KSVC] : 0.959261 \nKNeighbors Classifier      [KNN]  : 0.958085 \nGaussianNB                 [GNB]  : 0.959261 \n",
          "name": "stdout"
        }
      ]
    },
    {
      "metadata": {},
      "cell_type": "markdown",
      "source": "### Sequential feature selection - Forward"
    },
    {
      "metadata": {
        "trusted": true
      },
      "cell_type": "code",
      "source": "# Build RF classifier to use in feature selection   # REF. -https://rasbt.github.io/mlxtend/user_guide/feature_selection/SequentialFeatureSelector/\n                                                    # REF. -https://www.kdnuggets.com/2018/06/step-forward-feature-selection-python.html\nclf = KNeighborsClassifier(n_neighbors=5)\n\n# Build step forward feature selection\nmysfs1 = sfs(clf,k_features=2,forward=True,floating=False,verbose=2,scoring='accuracy',cv=5)\n\n# Perform SFFS\nmysfs1 = mysfs1.fit(X, y)\n\n# Which features?\nfeat_cols = list(mysfs1.k_feature_idx_)\nprint(feat_cols)\npd.DataFrame.from_dict(mysfs1.get_metric_dict()).T",
      "execution_count": 21,
      "outputs": [
        {
          "output_type": "stream",
          "text": "[Parallel(n_jobs=1)]: Using backend SequentialBackend with 1 concurrent workers.\n/home/nbuser/anaconda3_420/lib/python3.5/site-packages/sklearn/model_selection/_validation.py:528: DataConversionWarning: A column-vector y was passed when a 1d array was expected. Please change the shape of y to (n_samples, ), for example using ravel().\n  estimator.fit(X_train, y_train, **fit_params)\n/home/nbuser/anaconda3_420/lib/python3.5/site-packages/sklearn/model_selection/_validation.py:528: DataConversionWarning: A column-vector y was passed when a 1d array was expected. Please change the shape of y to (n_samples, ), for example using ravel().\n  estimator.fit(X_train, y_train, **fit_params)\n/home/nbuser/anaconda3_420/lib/python3.5/site-packages/sklearn/model_selection/_validation.py:528: DataConversionWarning: A column-vector y was passed when a 1d array was expected. Please change the shape of y to (n_samples, ), for example using ravel().\n  estimator.fit(X_train, y_train, **fit_params)\n/home/nbuser/anaconda3_420/lib/python3.5/site-packages/sklearn/model_selection/_validation.py:528: DataConversionWarning: A column-vector y was passed when a 1d array was expected. Please change the shape of y to (n_samples, ), for example using ravel().\n  estimator.fit(X_train, y_train, **fit_params)\n/home/nbuser/anaconda3_420/lib/python3.5/site-packages/sklearn/model_selection/_validation.py:528: DataConversionWarning: A column-vector y was passed when a 1d array was expected. Please change the shape of y to (n_samples, ), for example using ravel().\n  estimator.fit(X_train, y_train, **fit_params)\n[Parallel(n_jobs=1)]: Done   1 out of   1 | elapsed:    0.2s remaining:    0.0s\n/home/nbuser/anaconda3_420/lib/python3.5/site-packages/sklearn/model_selection/_validation.py:528: DataConversionWarning: A column-vector y was passed when a 1d array was expected. Please change the shape of y to (n_samples, ), for example using ravel().\n  estimator.fit(X_train, y_train, **fit_params)\n/home/nbuser/anaconda3_420/lib/python3.5/site-packages/sklearn/model_selection/_validation.py:528: DataConversionWarning: A column-vector y was passed when a 1d array was expected. Please change the shape of y to (n_samples, ), for example using ravel().\n  estimator.fit(X_train, y_train, **fit_params)\n/home/nbuser/anaconda3_420/lib/python3.5/site-packages/sklearn/model_selection/_validation.py:528: DataConversionWarning: A column-vector y was passed when a 1d array was expected. Please change the shape of y to (n_samples, ), for example using ravel().\n  estimator.fit(X_train, y_train, **fit_params)\n/home/nbuser/anaconda3_420/lib/python3.5/site-packages/sklearn/model_selection/_validation.py:528: DataConversionWarning: A column-vector y was passed when a 1d array was expected. Please change the shape of y to (n_samples, ), for example using ravel().\n  estimator.fit(X_train, y_train, **fit_params)\n/home/nbuser/anaconda3_420/lib/python3.5/site-packages/sklearn/model_selection/_validation.py:528: DataConversionWarning: A column-vector y was passed when a 1d array was expected. Please change the shape of y to (n_samples, ), for example using ravel().\n  estimator.fit(X_train, y_train, **fit_params)\n/home/nbuser/anaconda3_420/lib/python3.5/site-packages/sklearn/model_selection/_validation.py:528: DataConversionWarning: A column-vector y was passed when a 1d array was expected. Please change the shape of y to (n_samples, ), for example using ravel().\n  estimator.fit(X_train, y_train, **fit_params)\n/home/nbuser/anaconda3_420/lib/python3.5/site-packages/sklearn/model_selection/_validation.py:528: DataConversionWarning: A column-vector y was passed when a 1d array was expected. Please change the shape of y to (n_samples, ), for example using ravel().\n  estimator.fit(X_train, y_train, **fit_params)\n/home/nbuser/anaconda3_420/lib/python3.5/site-packages/sklearn/model_selection/_validation.py:528: DataConversionWarning: A column-vector y was passed when a 1d array was expected. Please change the shape of y to (n_samples, ), for example using ravel().\n  estimator.fit(X_train, y_train, **fit_params)\n/home/nbuser/anaconda3_420/lib/python3.5/site-packages/sklearn/model_selection/_validation.py:528: DataConversionWarning: A column-vector y was passed when a 1d array was expected. Please change the shape of y to (n_samples, ), for example using ravel().\n  estimator.fit(X_train, y_train, **fit_params)\n/home/nbuser/anaconda3_420/lib/python3.5/site-packages/sklearn/model_selection/_validation.py:528: DataConversionWarning: A column-vector y was passed when a 1d array was expected. Please change the shape of y to (n_samples, ), for example using ravel().\n  estimator.fit(X_train, y_train, **fit_params)\n/home/nbuser/anaconda3_420/lib/python3.5/site-packages/sklearn/model_selection/_validation.py:528: DataConversionWarning: A column-vector y was passed when a 1d array was expected. Please change the shape of y to (n_samples, ), for example using ravel().\n  estimator.fit(X_train, y_train, **fit_params)\n/home/nbuser/anaconda3_420/lib/python3.5/site-packages/sklearn/model_selection/_validation.py:528: DataConversionWarning: A column-vector y was passed when a 1d array was expected. Please change the shape of y to (n_samples, ), for example using ravel().\n  estimator.fit(X_train, y_train, **fit_params)\n/home/nbuser/anaconda3_420/lib/python3.5/site-packages/sklearn/model_selection/_validation.py:528: DataConversionWarning: A column-vector y was passed when a 1d array was expected. Please change the shape of y to (n_samples, ), for example using ravel().\n  estimator.fit(X_train, y_train, **fit_params)\n/home/nbuser/anaconda3_420/lib/python3.5/site-packages/sklearn/model_selection/_validation.py:528: DataConversionWarning: A column-vector y was passed when a 1d array was expected. Please change the shape of y to (n_samples, ), for example using ravel().\n  estimator.fit(X_train, y_train, **fit_params)\n/home/nbuser/anaconda3_420/lib/python3.5/site-packages/sklearn/model_selection/_validation.py:528: DataConversionWarning: A column-vector y was passed when a 1d array was expected. Please change the shape of y to (n_samples, ), for example using ravel().\n  estimator.fit(X_train, y_train, **fit_params)\n/home/nbuser/anaconda3_420/lib/python3.5/site-packages/sklearn/model_selection/_validation.py:528: DataConversionWarning: A column-vector y was passed when a 1d array was expected. Please change the shape of y to (n_samples, ), for example using ravel().\n  estimator.fit(X_train, y_train, **fit_params)\n/home/nbuser/anaconda3_420/lib/python3.5/site-packages/sklearn/model_selection/_validation.py:528: DataConversionWarning: A column-vector y was passed when a 1d array was expected. Please change the shape of y to (n_samples, ), for example using ravel().\n  estimator.fit(X_train, y_train, **fit_params)\n/home/nbuser/anaconda3_420/lib/python3.5/site-packages/sklearn/model_selection/_validation.py:528: DataConversionWarning: A column-vector y was passed when a 1d array was expected. Please change the shape of y to (n_samples, ), for example using ravel().\n  estimator.fit(X_train, y_train, **fit_params)\n/home/nbuser/anaconda3_420/lib/python3.5/site-packages/sklearn/model_selection/_validation.py:528: DataConversionWarning: A column-vector y was passed when a 1d array was expected. Please change the shape of y to (n_samples, ), for example using ravel().\n  estimator.fit(X_train, y_train, **fit_params)\n/home/nbuser/anaconda3_420/lib/python3.5/site-packages/sklearn/model_selection/_validation.py:528: DataConversionWarning: A column-vector y was passed when a 1d array was expected. Please change the shape of y to (n_samples, ), for example using ravel().\n  estimator.fit(X_train, y_train, **fit_params)\n/home/nbuser/anaconda3_420/lib/python3.5/site-packages/sklearn/model_selection/_validation.py:528: DataConversionWarning: A column-vector y was passed when a 1d array was expected. Please change the shape of y to (n_samples, ), for example using ravel().\n  estimator.fit(X_train, y_train, **fit_params)\n/home/nbuser/anaconda3_420/lib/python3.5/site-packages/sklearn/model_selection/_validation.py:528: DataConversionWarning: A column-vector y was passed when a 1d array was expected. Please change the shape of y to (n_samples, ), for example using ravel().\n  estimator.fit(X_train, y_train, **fit_params)\n/home/nbuser/anaconda3_420/lib/python3.5/site-packages/sklearn/model_selection/_validation.py:528: DataConversionWarning: A column-vector y was passed when a 1d array was expected. Please change the shape of y to (n_samples, ), for example using ravel().\n  estimator.fit(X_train, y_train, **fit_params)\n/home/nbuser/anaconda3_420/lib/python3.5/site-packages/sklearn/model_selection/_validation.py:528: DataConversionWarning: A column-vector y was passed when a 1d array was expected. Please change the shape of y to (n_samples, ), for example using ravel().\n  estimator.fit(X_train, y_train, **fit_params)\n/home/nbuser/anaconda3_420/lib/python3.5/site-packages/sklearn/model_selection/_validation.py:528: DataConversionWarning: A column-vector y was passed when a 1d array was expected. Please change the shape of y to (n_samples, ), for example using ravel().\n  estimator.fit(X_train, y_train, **fit_params)\n",
          "name": "stderr"
        },
        {
          "output_type": "stream",
          "text": "/home/nbuser/anaconda3_420/lib/python3.5/site-packages/sklearn/model_selection/_validation.py:528: DataConversionWarning: A column-vector y was passed when a 1d array was expected. Please change the shape of y to (n_samples, ), for example using ravel().\n  estimator.fit(X_train, y_train, **fit_params)\n/home/nbuser/anaconda3_420/lib/python3.5/site-packages/sklearn/model_selection/_validation.py:528: DataConversionWarning: A column-vector y was passed when a 1d array was expected. Please change the shape of y to (n_samples, ), for example using ravel().\n  estimator.fit(X_train, y_train, **fit_params)\n/home/nbuser/anaconda3_420/lib/python3.5/site-packages/sklearn/model_selection/_validation.py:528: DataConversionWarning: A column-vector y was passed when a 1d array was expected. Please change the shape of y to (n_samples, ), for example using ravel().\n  estimator.fit(X_train, y_train, **fit_params)\n/home/nbuser/anaconda3_420/lib/python3.5/site-packages/sklearn/model_selection/_validation.py:528: DataConversionWarning: A column-vector y was passed when a 1d array was expected. Please change the shape of y to (n_samples, ), for example using ravel().\n  estimator.fit(X_train, y_train, **fit_params)\n/home/nbuser/anaconda3_420/lib/python3.5/site-packages/sklearn/model_selection/_validation.py:528: DataConversionWarning: A column-vector y was passed when a 1d array was expected. Please change the shape of y to (n_samples, ), for example using ravel().\n  estimator.fit(X_train, y_train, **fit_params)\n/home/nbuser/anaconda3_420/lib/python3.5/site-packages/sklearn/model_selection/_validation.py:528: DataConversionWarning: A column-vector y was passed when a 1d array was expected. Please change the shape of y to (n_samples, ), for example using ravel().\n  estimator.fit(X_train, y_train, **fit_params)\n/home/nbuser/anaconda3_420/lib/python3.5/site-packages/sklearn/model_selection/_validation.py:528: DataConversionWarning: A column-vector y was passed when a 1d array was expected. Please change the shape of y to (n_samples, ), for example using ravel().\n  estimator.fit(X_train, y_train, **fit_params)\n/home/nbuser/anaconda3_420/lib/python3.5/site-packages/sklearn/model_selection/_validation.py:528: DataConversionWarning: A column-vector y was passed when a 1d array was expected. Please change the shape of y to (n_samples, ), for example using ravel().\n  estimator.fit(X_train, y_train, **fit_params)\n/home/nbuser/anaconda3_420/lib/python3.5/site-packages/sklearn/model_selection/_validation.py:528: DataConversionWarning: A column-vector y was passed when a 1d array was expected. Please change the shape of y to (n_samples, ), for example using ravel().\n  estimator.fit(X_train, y_train, **fit_params)\n/home/nbuser/anaconda3_420/lib/python3.5/site-packages/sklearn/model_selection/_validation.py:528: DataConversionWarning: A column-vector y was passed when a 1d array was expected. Please change the shape of y to (n_samples, ), for example using ravel().\n  estimator.fit(X_train, y_train, **fit_params)\n/home/nbuser/anaconda3_420/lib/python3.5/site-packages/sklearn/model_selection/_validation.py:528: DataConversionWarning: A column-vector y was passed when a 1d array was expected. Please change the shape of y to (n_samples, ), for example using ravel().\n  estimator.fit(X_train, y_train, **fit_params)\n/home/nbuser/anaconda3_420/lib/python3.5/site-packages/sklearn/model_selection/_validation.py:528: DataConversionWarning: A column-vector y was passed when a 1d array was expected. Please change the shape of y to (n_samples, ), for example using ravel().\n  estimator.fit(X_train, y_train, **fit_params)\n/home/nbuser/anaconda3_420/lib/python3.5/site-packages/sklearn/model_selection/_validation.py:528: DataConversionWarning: A column-vector y was passed when a 1d array was expected. Please change the shape of y to (n_samples, ), for example using ravel().\n  estimator.fit(X_train, y_train, **fit_params)\n/home/nbuser/anaconda3_420/lib/python3.5/site-packages/sklearn/model_selection/_validation.py:528: DataConversionWarning: A column-vector y was passed when a 1d array was expected. Please change the shape of y to (n_samples, ), for example using ravel().\n  estimator.fit(X_train, y_train, **fit_params)\n/home/nbuser/anaconda3_420/lib/python3.5/site-packages/sklearn/model_selection/_validation.py:528: DataConversionWarning: A column-vector y was passed when a 1d array was expected. Please change the shape of y to (n_samples, ), for example using ravel().\n  estimator.fit(X_train, y_train, **fit_params)\n/home/nbuser/anaconda3_420/lib/python3.5/site-packages/sklearn/model_selection/_validation.py:528: DataConversionWarning: A column-vector y was passed when a 1d array was expected. Please change the shape of y to (n_samples, ), for example using ravel().\n  estimator.fit(X_train, y_train, **fit_params)\n/home/nbuser/anaconda3_420/lib/python3.5/site-packages/sklearn/model_selection/_validation.py:528: DataConversionWarning: A column-vector y was passed when a 1d array was expected. Please change the shape of y to (n_samples, ), for example using ravel().\n  estimator.fit(X_train, y_train, **fit_params)\n/home/nbuser/anaconda3_420/lib/python3.5/site-packages/sklearn/model_selection/_validation.py:528: DataConversionWarning: A column-vector y was passed when a 1d array was expected. Please change the shape of y to (n_samples, ), for example using ravel().\n  estimator.fit(X_train, y_train, **fit_params)\n/home/nbuser/anaconda3_420/lib/python3.5/site-packages/sklearn/model_selection/_validation.py:528: DataConversionWarning: A column-vector y was passed when a 1d array was expected. Please change the shape of y to (n_samples, ), for example using ravel().\n  estimator.fit(X_train, y_train, **fit_params)\n/home/nbuser/anaconda3_420/lib/python3.5/site-packages/sklearn/model_selection/_validation.py:528: DataConversionWarning: A column-vector y was passed when a 1d array was expected. Please change the shape of y to (n_samples, ), for example using ravel().\n  estimator.fit(X_train, y_train, **fit_params)\n/home/nbuser/anaconda3_420/lib/python3.5/site-packages/sklearn/model_selection/_validation.py:528: DataConversionWarning: A column-vector y was passed when a 1d array was expected. Please change the shape of y to (n_samples, ), for example using ravel().\n  estimator.fit(X_train, y_train, **fit_params)\n/home/nbuser/anaconda3_420/lib/python3.5/site-packages/sklearn/model_selection/_validation.py:528: DataConversionWarning: A column-vector y was passed when a 1d array was expected. Please change the shape of y to (n_samples, ), for example using ravel().\n  estimator.fit(X_train, y_train, **fit_params)\n/home/nbuser/anaconda3_420/lib/python3.5/site-packages/sklearn/model_selection/_validation.py:528: DataConversionWarning: A column-vector y was passed when a 1d array was expected. Please change the shape of y to (n_samples, ), for example using ravel().\n  estimator.fit(X_train, y_train, **fit_params)\n/home/nbuser/anaconda3_420/lib/python3.5/site-packages/sklearn/model_selection/_validation.py:528: DataConversionWarning: A column-vector y was passed when a 1d array was expected. Please change the shape of y to (n_samples, ), for example using ravel().\n  estimator.fit(X_train, y_train, **fit_params)\n/home/nbuser/anaconda3_420/lib/python3.5/site-packages/sklearn/model_selection/_validation.py:528: DataConversionWarning: A column-vector y was passed when a 1d array was expected. Please change the shape of y to (n_samples, ), for example using ravel().\n  estimator.fit(X_train, y_train, **fit_params)\n/home/nbuser/anaconda3_420/lib/python3.5/site-packages/sklearn/model_selection/_validation.py:528: DataConversionWarning: A column-vector y was passed when a 1d array was expected. Please change the shape of y to (n_samples, ), for example using ravel().\n  estimator.fit(X_train, y_train, **fit_params)\n/home/nbuser/anaconda3_420/lib/python3.5/site-packages/sklearn/model_selection/_validation.py:528: DataConversionWarning: A column-vector y was passed when a 1d array was expected. Please change the shape of y to (n_samples, ), for example using ravel().\n  estimator.fit(X_train, y_train, **fit_params)\n/home/nbuser/anaconda3_420/lib/python3.5/site-packages/sklearn/model_selection/_validation.py:528: DataConversionWarning: A column-vector y was passed when a 1d array was expected. Please change the shape of y to (n_samples, ), for example using ravel().\n  estimator.fit(X_train, y_train, **fit_params)\n/home/nbuser/anaconda3_420/lib/python3.5/site-packages/sklearn/model_selection/_validation.py:528: DataConversionWarning: A column-vector y was passed when a 1d array was expected. Please change the shape of y to (n_samples, ), for example using ravel().\n  estimator.fit(X_train, y_train, **fit_params)\n/home/nbuser/anaconda3_420/lib/python3.5/site-packages/sklearn/model_selection/_validation.py:528: DataConversionWarning: A column-vector y was passed when a 1d array was expected. Please change the shape of y to (n_samples, ), for example using ravel().\n  estimator.fit(X_train, y_train, **fit_params)\n[Parallel(n_jobs=1)]: Done  12 out of  12 | elapsed:    2.1s finished\n\n[2019-02-20 00:39:11] Features: 1/2 -- score: 0.9592071263429892[Parallel(n_jobs=1)]: Using backend SequentialBackend with 1 concurrent workers.\n",
          "name": "stderr"
        },
        {
          "output_type": "stream",
          "text": "/home/nbuser/anaconda3_420/lib/python3.5/site-packages/sklearn/model_selection/_validation.py:528: DataConversionWarning: A column-vector y was passed when a 1d array was expected. Please change the shape of y to (n_samples, ), for example using ravel().\n  estimator.fit(X_train, y_train, **fit_params)\n/home/nbuser/anaconda3_420/lib/python3.5/site-packages/sklearn/model_selection/_validation.py:528: DataConversionWarning: A column-vector y was passed when a 1d array was expected. Please change the shape of y to (n_samples, ), for example using ravel().\n  estimator.fit(X_train, y_train, **fit_params)\n/home/nbuser/anaconda3_420/lib/python3.5/site-packages/sklearn/model_selection/_validation.py:528: DataConversionWarning: A column-vector y was passed when a 1d array was expected. Please change the shape of y to (n_samples, ), for example using ravel().\n  estimator.fit(X_train, y_train, **fit_params)\n/home/nbuser/anaconda3_420/lib/python3.5/site-packages/sklearn/model_selection/_validation.py:528: DataConversionWarning: A column-vector y was passed when a 1d array was expected. Please change the shape of y to (n_samples, ), for example using ravel().\n  estimator.fit(X_train, y_train, **fit_params)\n/home/nbuser/anaconda3_420/lib/python3.5/site-packages/sklearn/model_selection/_validation.py:528: DataConversionWarning: A column-vector y was passed when a 1d array was expected. Please change the shape of y to (n_samples, ), for example using ravel().\n  estimator.fit(X_train, y_train, **fit_params)\n[Parallel(n_jobs=1)]: Done   1 out of   1 | elapsed:    0.2s remaining:    0.0s\n/home/nbuser/anaconda3_420/lib/python3.5/site-packages/sklearn/model_selection/_validation.py:528: DataConversionWarning: A column-vector y was passed when a 1d array was expected. Please change the shape of y to (n_samples, ), for example using ravel().\n  estimator.fit(X_train, y_train, **fit_params)\n/home/nbuser/anaconda3_420/lib/python3.5/site-packages/sklearn/model_selection/_validation.py:528: DataConversionWarning: A column-vector y was passed when a 1d array was expected. Please change the shape of y to (n_samples, ), for example using ravel().\n  estimator.fit(X_train, y_train, **fit_params)\n/home/nbuser/anaconda3_420/lib/python3.5/site-packages/sklearn/model_selection/_validation.py:528: DataConversionWarning: A column-vector y was passed when a 1d array was expected. Please change the shape of y to (n_samples, ), for example using ravel().\n  estimator.fit(X_train, y_train, **fit_params)\n/home/nbuser/anaconda3_420/lib/python3.5/site-packages/sklearn/model_selection/_validation.py:528: DataConversionWarning: A column-vector y was passed when a 1d array was expected. Please change the shape of y to (n_samples, ), for example using ravel().\n  estimator.fit(X_train, y_train, **fit_params)\n/home/nbuser/anaconda3_420/lib/python3.5/site-packages/sklearn/model_selection/_validation.py:528: DataConversionWarning: A column-vector y was passed when a 1d array was expected. Please change the shape of y to (n_samples, ), for example using ravel().\n  estimator.fit(X_train, y_train, **fit_params)\n/home/nbuser/anaconda3_420/lib/python3.5/site-packages/sklearn/model_selection/_validation.py:528: DataConversionWarning: A column-vector y was passed when a 1d array was expected. Please change the shape of y to (n_samples, ), for example using ravel().\n  estimator.fit(X_train, y_train, **fit_params)\n/home/nbuser/anaconda3_420/lib/python3.5/site-packages/sklearn/model_selection/_validation.py:528: DataConversionWarning: A column-vector y was passed when a 1d array was expected. Please change the shape of y to (n_samples, ), for example using ravel().\n  estimator.fit(X_train, y_train, **fit_params)\n/home/nbuser/anaconda3_420/lib/python3.5/site-packages/sklearn/model_selection/_validation.py:528: DataConversionWarning: A column-vector y was passed when a 1d array was expected. Please change the shape of y to (n_samples, ), for example using ravel().\n  estimator.fit(X_train, y_train, **fit_params)\n/home/nbuser/anaconda3_420/lib/python3.5/site-packages/sklearn/model_selection/_validation.py:528: DataConversionWarning: A column-vector y was passed when a 1d array was expected. Please change the shape of y to (n_samples, ), for example using ravel().\n  estimator.fit(X_train, y_train, **fit_params)\n/home/nbuser/anaconda3_420/lib/python3.5/site-packages/sklearn/model_selection/_validation.py:528: DataConversionWarning: A column-vector y was passed when a 1d array was expected. Please change the shape of y to (n_samples, ), for example using ravel().\n  estimator.fit(X_train, y_train, **fit_params)\n/home/nbuser/anaconda3_420/lib/python3.5/site-packages/sklearn/model_selection/_validation.py:528: DataConversionWarning: A column-vector y was passed when a 1d array was expected. Please change the shape of y to (n_samples, ), for example using ravel().\n  estimator.fit(X_train, y_train, **fit_params)\n/home/nbuser/anaconda3_420/lib/python3.5/site-packages/sklearn/model_selection/_validation.py:528: DataConversionWarning: A column-vector y was passed when a 1d array was expected. Please change the shape of y to (n_samples, ), for example using ravel().\n  estimator.fit(X_train, y_train, **fit_params)\n/home/nbuser/anaconda3_420/lib/python3.5/site-packages/sklearn/model_selection/_validation.py:528: DataConversionWarning: A column-vector y was passed when a 1d array was expected. Please change the shape of y to (n_samples, ), for example using ravel().\n  estimator.fit(X_train, y_train, **fit_params)\n/home/nbuser/anaconda3_420/lib/python3.5/site-packages/sklearn/model_selection/_validation.py:528: DataConversionWarning: A column-vector y was passed when a 1d array was expected. Please change the shape of y to (n_samples, ), for example using ravel().\n  estimator.fit(X_train, y_train, **fit_params)\n/home/nbuser/anaconda3_420/lib/python3.5/site-packages/sklearn/model_selection/_validation.py:528: DataConversionWarning: A column-vector y was passed when a 1d array was expected. Please change the shape of y to (n_samples, ), for example using ravel().\n  estimator.fit(X_train, y_train, **fit_params)\n/home/nbuser/anaconda3_420/lib/python3.5/site-packages/sklearn/model_selection/_validation.py:528: DataConversionWarning: A column-vector y was passed when a 1d array was expected. Please change the shape of y to (n_samples, ), for example using ravel().\n  estimator.fit(X_train, y_train, **fit_params)\n/home/nbuser/anaconda3_420/lib/python3.5/site-packages/sklearn/model_selection/_validation.py:528: DataConversionWarning: A column-vector y was passed when a 1d array was expected. Please change the shape of y to (n_samples, ), for example using ravel().\n  estimator.fit(X_train, y_train, **fit_params)\n/home/nbuser/anaconda3_420/lib/python3.5/site-packages/sklearn/model_selection/_validation.py:528: DataConversionWarning: A column-vector y was passed when a 1d array was expected. Please change the shape of y to (n_samples, ), for example using ravel().\n  estimator.fit(X_train, y_train, **fit_params)\n/home/nbuser/anaconda3_420/lib/python3.5/site-packages/sklearn/model_selection/_validation.py:528: DataConversionWarning: A column-vector y was passed when a 1d array was expected. Please change the shape of y to (n_samples, ), for example using ravel().\n  estimator.fit(X_train, y_train, **fit_params)\n/home/nbuser/anaconda3_420/lib/python3.5/site-packages/sklearn/model_selection/_validation.py:528: DataConversionWarning: A column-vector y was passed when a 1d array was expected. Please change the shape of y to (n_samples, ), for example using ravel().\n  estimator.fit(X_train, y_train, **fit_params)\n/home/nbuser/anaconda3_420/lib/python3.5/site-packages/sklearn/model_selection/_validation.py:528: DataConversionWarning: A column-vector y was passed when a 1d array was expected. Please change the shape of y to (n_samples, ), for example using ravel().\n  estimator.fit(X_train, y_train, **fit_params)\n/home/nbuser/anaconda3_420/lib/python3.5/site-packages/sklearn/model_selection/_validation.py:528: DataConversionWarning: A column-vector y was passed when a 1d array was expected. Please change the shape of y to (n_samples, ), for example using ravel().\n  estimator.fit(X_train, y_train, **fit_params)\n/home/nbuser/anaconda3_420/lib/python3.5/site-packages/sklearn/model_selection/_validation.py:528: DataConversionWarning: A column-vector y was passed when a 1d array was expected. Please change the shape of y to (n_samples, ), for example using ravel().\n  estimator.fit(X_train, y_train, **fit_params)\n",
          "name": "stderr"
        },
        {
          "output_type": "stream",
          "text": "/home/nbuser/anaconda3_420/lib/python3.5/site-packages/sklearn/model_selection/_validation.py:528: DataConversionWarning: A column-vector y was passed when a 1d array was expected. Please change the shape of y to (n_samples, ), for example using ravel().\n  estimator.fit(X_train, y_train, **fit_params)\n/home/nbuser/anaconda3_420/lib/python3.5/site-packages/sklearn/model_selection/_validation.py:528: DataConversionWarning: A column-vector y was passed when a 1d array was expected. Please change the shape of y to (n_samples, ), for example using ravel().\n  estimator.fit(X_train, y_train, **fit_params)\n/home/nbuser/anaconda3_420/lib/python3.5/site-packages/sklearn/model_selection/_validation.py:528: DataConversionWarning: A column-vector y was passed when a 1d array was expected. Please change the shape of y to (n_samples, ), for example using ravel().\n  estimator.fit(X_train, y_train, **fit_params)\n/home/nbuser/anaconda3_420/lib/python3.5/site-packages/sklearn/model_selection/_validation.py:528: DataConversionWarning: A column-vector y was passed when a 1d array was expected. Please change the shape of y to (n_samples, ), for example using ravel().\n  estimator.fit(X_train, y_train, **fit_params)\n/home/nbuser/anaconda3_420/lib/python3.5/site-packages/sklearn/model_selection/_validation.py:528: DataConversionWarning: A column-vector y was passed when a 1d array was expected. Please change the shape of y to (n_samples, ), for example using ravel().\n  estimator.fit(X_train, y_train, **fit_params)\n/home/nbuser/anaconda3_420/lib/python3.5/site-packages/sklearn/model_selection/_validation.py:528: DataConversionWarning: A column-vector y was passed when a 1d array was expected. Please change the shape of y to (n_samples, ), for example using ravel().\n  estimator.fit(X_train, y_train, **fit_params)\n/home/nbuser/anaconda3_420/lib/python3.5/site-packages/sklearn/model_selection/_validation.py:528: DataConversionWarning: A column-vector y was passed when a 1d array was expected. Please change the shape of y to (n_samples, ), for example using ravel().\n  estimator.fit(X_train, y_train, **fit_params)\n/home/nbuser/anaconda3_420/lib/python3.5/site-packages/sklearn/model_selection/_validation.py:528: DataConversionWarning: A column-vector y was passed when a 1d array was expected. Please change the shape of y to (n_samples, ), for example using ravel().\n  estimator.fit(X_train, y_train, **fit_params)\n/home/nbuser/anaconda3_420/lib/python3.5/site-packages/sklearn/model_selection/_validation.py:528: DataConversionWarning: A column-vector y was passed when a 1d array was expected. Please change the shape of y to (n_samples, ), for example using ravel().\n  estimator.fit(X_train, y_train, **fit_params)\n/home/nbuser/anaconda3_420/lib/python3.5/site-packages/sklearn/model_selection/_validation.py:528: DataConversionWarning: A column-vector y was passed when a 1d array was expected. Please change the shape of y to (n_samples, ), for example using ravel().\n  estimator.fit(X_train, y_train, **fit_params)\n/home/nbuser/anaconda3_420/lib/python3.5/site-packages/sklearn/model_selection/_validation.py:528: DataConversionWarning: A column-vector y was passed when a 1d array was expected. Please change the shape of y to (n_samples, ), for example using ravel().\n  estimator.fit(X_train, y_train, **fit_params)\n/home/nbuser/anaconda3_420/lib/python3.5/site-packages/sklearn/model_selection/_validation.py:528: DataConversionWarning: A column-vector y was passed when a 1d array was expected. Please change the shape of y to (n_samples, ), for example using ravel().\n  estimator.fit(X_train, y_train, **fit_params)\n/home/nbuser/anaconda3_420/lib/python3.5/site-packages/sklearn/model_selection/_validation.py:528: DataConversionWarning: A column-vector y was passed when a 1d array was expected. Please change the shape of y to (n_samples, ), for example using ravel().\n  estimator.fit(X_train, y_train, **fit_params)\n/home/nbuser/anaconda3_420/lib/python3.5/site-packages/sklearn/model_selection/_validation.py:528: DataConversionWarning: A column-vector y was passed when a 1d array was expected. Please change the shape of y to (n_samples, ), for example using ravel().\n  estimator.fit(X_train, y_train, **fit_params)\n/home/nbuser/anaconda3_420/lib/python3.5/site-packages/sklearn/model_selection/_validation.py:528: DataConversionWarning: A column-vector y was passed when a 1d array was expected. Please change the shape of y to (n_samples, ), for example using ravel().\n  estimator.fit(X_train, y_train, **fit_params)\n/home/nbuser/anaconda3_420/lib/python3.5/site-packages/sklearn/model_selection/_validation.py:528: DataConversionWarning: A column-vector y was passed when a 1d array was expected. Please change the shape of y to (n_samples, ), for example using ravel().\n  estimator.fit(X_train, y_train, **fit_params)\n/home/nbuser/anaconda3_420/lib/python3.5/site-packages/sklearn/model_selection/_validation.py:528: DataConversionWarning: A column-vector y was passed when a 1d array was expected. Please change the shape of y to (n_samples, ), for example using ravel().\n  estimator.fit(X_train, y_train, **fit_params)\n/home/nbuser/anaconda3_420/lib/python3.5/site-packages/sklearn/model_selection/_validation.py:528: DataConversionWarning: A column-vector y was passed when a 1d array was expected. Please change the shape of y to (n_samples, ), for example using ravel().\n  estimator.fit(X_train, y_train, **fit_params)\n/home/nbuser/anaconda3_420/lib/python3.5/site-packages/sklearn/model_selection/_validation.py:528: DataConversionWarning: A column-vector y was passed when a 1d array was expected. Please change the shape of y to (n_samples, ), for example using ravel().\n  estimator.fit(X_train, y_train, **fit_params)\n/home/nbuser/anaconda3_420/lib/python3.5/site-packages/sklearn/model_selection/_validation.py:528: DataConversionWarning: A column-vector y was passed when a 1d array was expected. Please change the shape of y to (n_samples, ), for example using ravel().\n  estimator.fit(X_train, y_train, **fit_params)\n/home/nbuser/anaconda3_420/lib/python3.5/site-packages/sklearn/model_selection/_validation.py:528: DataConversionWarning: A column-vector y was passed when a 1d array was expected. Please change the shape of y to (n_samples, ), for example using ravel().\n  estimator.fit(X_train, y_train, **fit_params)\n/home/nbuser/anaconda3_420/lib/python3.5/site-packages/sklearn/model_selection/_validation.py:528: DataConversionWarning: A column-vector y was passed when a 1d array was expected. Please change the shape of y to (n_samples, ), for example using ravel().\n  estimator.fit(X_train, y_train, **fit_params)\n/home/nbuser/anaconda3_420/lib/python3.5/site-packages/sklearn/model_selection/_validation.py:528: DataConversionWarning: A column-vector y was passed when a 1d array was expected. Please change the shape of y to (n_samples, ), for example using ravel().\n  estimator.fit(X_train, y_train, **fit_params)\n/home/nbuser/anaconda3_420/lib/python3.5/site-packages/sklearn/model_selection/_validation.py:528: DataConversionWarning: A column-vector y was passed when a 1d array was expected. Please change the shape of y to (n_samples, ), for example using ravel().\n  estimator.fit(X_train, y_train, **fit_params)\n/home/nbuser/anaconda3_420/lib/python3.5/site-packages/sklearn/model_selection/_validation.py:528: DataConversionWarning: A column-vector y was passed when a 1d array was expected. Please change the shape of y to (n_samples, ), for example using ravel().\n  estimator.fit(X_train, y_train, **fit_params)\n/home/nbuser/anaconda3_420/lib/python3.5/site-packages/sklearn/model_selection/_validation.py:528: DataConversionWarning: A column-vector y was passed when a 1d array was expected. Please change the shape of y to (n_samples, ), for example using ravel().\n  estimator.fit(X_train, y_train, **fit_params)\n/home/nbuser/anaconda3_420/lib/python3.5/site-packages/sklearn/model_selection/_validation.py:528: DataConversionWarning: A column-vector y was passed when a 1d array was expected. Please change the shape of y to (n_samples, ), for example using ravel().\n  estimator.fit(X_train, y_train, **fit_params)\n[Parallel(n_jobs=1)]: Done  11 out of  11 | elapsed:    1.9s finished\n\n[2019-02-20 00:39:13] Features: 2/2 -- score: 0.9592071263429892",
          "name": "stderr"
        },
        {
          "output_type": "stream",
          "text": "[0, 1]\n",
          "name": "stdout"
        },
        {
          "output_type": "execute_result",
          "execution_count": 21,
          "data": {
            "text/html": "<div>\n<style scoped>\n    .dataframe tbody tr th:only-of-type {\n        vertical-align: middle;\n    }\n\n    .dataframe tbody tr th {\n        vertical-align: top;\n    }\n\n    .dataframe thead th {\n        text-align: right;\n    }\n</style>\n<table border=\"1\" class=\"dataframe\">\n  <thead>\n    <tr style=\"text-align: right;\">\n      <th></th>\n      <th>avg_score</th>\n      <th>ci_bound</th>\n      <th>cv_scores</th>\n      <th>feature_idx</th>\n      <th>feature_names</th>\n      <th>std_dev</th>\n      <th>std_err</th>\n    </tr>\n  </thead>\n  <tbody>\n    <tr>\n      <th>1</th>\n      <td>0.959207</td>\n      <td>0.000149858</td>\n      <td>[0.9593023255813954, 0.9593023255813954, 0.959...</td>\n      <td>(0,)</td>\n      <td>(0,)</td>\n      <td>0.000116595</td>\n      <td>5.82974e-05</td>\n    </tr>\n    <tr>\n      <th>2</th>\n      <td>0.959207</td>\n      <td>0.000149858</td>\n      <td>[0.9593023255813954, 0.9593023255813954, 0.959...</td>\n      <td>(0, 1)</td>\n      <td>(0, 1)</td>\n      <td>0.000116595</td>\n      <td>5.82974e-05</td>\n    </tr>\n  </tbody>\n</table>\n</div>",
            "text/plain": "  avg_score     ci_bound                                          cv_scores  \\\n1  0.959207  0.000149858  [0.9593023255813954, 0.9593023255813954, 0.959...   \n2  0.959207  0.000149858  [0.9593023255813954, 0.9593023255813954, 0.959...   \n\n  feature_idx feature_names      std_dev      std_err  \n1        (0,)          (0,)  0.000116595  5.82974e-05  \n2      (0, 1)        (0, 1)  0.000116595  5.82974e-05  "
          },
          "metadata": {}
        }
      ]
    },
    {
      "metadata": {},
      "cell_type": "markdown",
      "source": "### Sequential feature selection - Backward"
    },
    {
      "metadata": {
        "trusted": true
      },
      "cell_type": "code",
      "source": "",
      "execution_count": null,
      "outputs": []
    },
    {
      "metadata": {
        "trusted": true
      },
      "cell_type": "code",
      "source": "",
      "execution_count": null,
      "outputs": []
    }
  ],
  "metadata": {
    "kernelspec": {
      "name": "python3",
      "display_name": "Python 3",
      "language": "python"
    },
    "language_info": {
      "mimetype": "text/x-python",
      "nbconvert_exporter": "python",
      "name": "python",
      "pygments_lexer": "ipython3",
      "version": "3.5.4",
      "file_extension": ".py",
      "codemirror_mode": {
        "version": 3,
        "name": "ipython"
      }
    }
  },
  "nbformat": 4,
  "nbformat_minor": 2
}