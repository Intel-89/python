{
  "cells": [
    {
      "metadata": {
        "trusted": true
      },
      "cell_type": "code",
      "source": "# IMPORTING PACKAGES\n#------------------\nimport pandas as pd",
      "execution_count": 1,
      "outputs": []
    },
    {
      "metadata": {
        "trusted": true
      },
      "cell_type": "code",
      "source": "#Loading web files into our dataframe structures from Pandas \n#------------------\nsales = pd.read_excel('https://github.com/datagy/mediumdata/raw/master/pythonexcel.xlsx', sheet_name = 'sales')\nstates = pd.read_excel('https://github.com/datagy/mediumdata/raw/master/pythonexcel.xlsx', sheet_name = 'states')",
      "execution_count": 2,
      "outputs": []
    },
    {
      "metadata": {
        "trusted": true
      },
      "cell_type": "code",
      "source": "#Taking a look at first values from our data imported\n#----------------------------------------------------\nprint(sales.head())",
      "execution_count": 10,
      "outputs": [
        {
          "output_type": "stream",
          "text": "    Product  Sales       Date           City\n0   Bananas    121 2019-06-13        Atlanta\n1   Bananas    236 2019-10-20        Atlanta\n2    Apples    981 2019-03-12        Atlanta\n3     Bread    996 2019-07-28  New York City\n4  Brocolli    790 2019-10-22  New York City\n",
          "name": "stdout"
        }
      ]
    },
    {
      "metadata": {
        "trusted": true
      },
      "cell_type": "code",
      "source": "#Creating an Excel \"IF\" but using python dataframe syntax\n#--------------------------------------------------------\nsales['MoreThan500'] = ['Yes' if x > 500 else 'No' for x in sales['Sales']]",
      "execution_count": 11,
      "outputs": []
    },
    {
      "metadata": {
        "trusted": true
      },
      "cell_type": "code",
      "source": "#Having a look at first values from our data imported with newly column\n#----------------------------------------------------------------------\nprint(sales.head())",
      "execution_count": 12,
      "outputs": [
        {
          "output_type": "stream",
          "text": "    Product  Sales       Date           City MoreThan500\n0   Bananas    121 2019-06-13        Atlanta          No\n1   Bananas    236 2019-10-20        Atlanta          No\n2    Apples    981 2019-03-12        Atlanta         Yes\n3     Bread    996 2019-07-28  New York City         Yes\n4  Brocolli    790 2019-10-22  New York City         Yes\n",
          "name": "stdout"
        }
      ]
    },
    {
      "metadata": {
        "trusted": true
      },
      "cell_type": "code",
      "source": "# VLOOKUP or \"Left Join\" \n#-----------------------\nsales = pd.merge(sales, states, how='left', on='City')\nprint(sales.head())",
      "execution_count": 13,
      "outputs": [
        {
          "output_type": "stream",
          "text": "    Product  Sales       Date           City MoreThan500     State\n0   Bananas    121 2019-06-13        Atlanta          No   Georgia\n1   Bananas    236 2019-10-20        Atlanta          No   Georgia\n2    Apples    981 2019-03-12        Atlanta         Yes   Georgia\n3     Bread    996 2019-07-28  New York City         Yes  New York\n4  Brocolli    790 2019-10-22  New York City         Yes  New York\n",
          "name": "stdout"
        }
      ]
    },
    {
      "metadata": {
        "trusted": true
      },
      "cell_type": "code",
      "source": "# Creating simple pivot table with pandas \n#----------------------------------------\nsales.pivot_table(index = 'City', values = 'Sales', aggfunc = 'sum')",
      "execution_count": 15,
      "outputs": [
        {
          "output_type": "execute_result",
          "execution_count": 15,
          "data": {
            "text/html": "<div>\n<style scoped>\n    .dataframe tbody tr th:only-of-type {\n        vertical-align: middle;\n    }\n\n    .dataframe tbody tr th {\n        vertical-align: top;\n    }\n\n    .dataframe thead th {\n        text-align: right;\n    }\n</style>\n<table border=\"1\" class=\"dataframe\">\n  <thead>\n    <tr style=\"text-align: right;\">\n      <th></th>\n      <th>Sales</th>\n    </tr>\n    <tr>\n      <th>City</th>\n      <th></th>\n    </tr>\n  </thead>\n  <tbody>\n    <tr>\n      <th>Atlanta</th>\n      <td>7642</td>\n    </tr>\n    <tr>\n      <th>New York City</th>\n      <td>8249</td>\n    </tr>\n    <tr>\n      <th>Portland</th>\n      <td>4231</td>\n    </tr>\n    <tr>\n      <th>Toronto</th>\n      <td>9571</td>\n    </tr>\n  </tbody>\n</table>\n</div>",
            "text/plain": "               Sales\nCity                \nAtlanta         7642\nNew York City   8249\nPortland        4231\nToronto         9571"
          },
          "metadata": {}
        }
      ]
    }
  ],
  "metadata": {
    "kernelspec": {
      "name": "python36",
      "display_name": "Python 3.6",
      "language": "python"
    },
    "language_info": {
      "mimetype": "text/x-python",
      "nbconvert_exporter": "python",
      "name": "python",
      "pygments_lexer": "ipython3",
      "version": "3.6.6",
      "file_extension": ".py",
      "codemirror_mode": {
        "version": 3,
        "name": "ipython"
      }
    }
  },
  "nbformat": 4,
  "nbformat_minor": 1
}