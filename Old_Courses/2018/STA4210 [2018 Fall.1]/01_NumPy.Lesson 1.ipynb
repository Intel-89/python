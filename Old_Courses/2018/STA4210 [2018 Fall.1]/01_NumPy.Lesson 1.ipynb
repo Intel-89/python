{
  "cells": [
    {
      "metadata": {},
      "cell_type": "markdown",
      "source": "# Introduction to Vectors and Matrices\n* Test1\n    - Test2\n        - Test2\n    - Test2"
    },
    {
      "metadata": {},
      "cell_type": "markdown",
      "source": "##Data Set Information:\nWe have chosen the ‘Seeds Data Set’ from the UCI repository.\nThe examined group comprised kernels belonging to three different varieties of wheat: \n####Kama \n####Rosa \n####Canadian \n\n70 elements each, randomly selected for the experiment. \nHigh quality visualization of the internal kernel structure was detected using a soft X-ray technique. It is non-destructive and considerably cheaper than other more sophisticated imaging techniques like scanning microscopy or laser technology. The images were recorded on 13x18 cm X-ray KODAK plates. Studies were conducted using combine harvested wheat grain originating from experimental fields, explored at the Institute of Agrophysics of the Polish Academy of Sciences in Lublin. \n"
    },
    {
      "metadata": {},
      "cell_type": "markdown",
      "source": "## Basics of NumPy Array Object"
    },
    {
      "metadata": {
        "trusted": false
      },
      "cell_type": "code",
      "source": "x = np.array ([[1,2,3], [4,5,6]])\n\nx",
      "execution_count": 3,
      "outputs": [
        {
          "data": {
            "text/plain": "array([[1, 2, 3],\n       [4, 5, 6]])"
          },
          "execution_count": 3,
          "metadata": {},
          "output_type": "execute_result"
        }
      ]
    },
    {
      "metadata": {
        "trusted": false
      },
      "cell_type": "code",
      "source": "print('We just create a', type(x))",
      "execution_count": 4,
      "outputs": [
        {
          "name": "stdout",
          "output_type": "stream",
          "text": "We just create a <class 'numpy.ndarray'>\n"
        }
      ]
    },
    {
      "metadata": {
        "trusted": false
      },
      "cell_type": "code",
      "source": "print(\"Our template has shape as\", x.shape)",
      "execution_count": 10,
      "outputs": [
        {
          "name": "stdout",
          "output_type": "stream",
          "text": "Our template has shape as (2, 3)\n"
        }
      ]
    },
    {
      "metadata": {
        "trusted": false
      },
      "cell_type": "code",
      "source": "print(\"Total size is\", x.size)",
      "execution_count": 11,
      "outputs": [
        {
          "name": "stdout",
          "output_type": "stream",
          "text": "Total size is 6\n"
        }
      ]
    },
    {
      "metadata": {
        "trusted": false
      },
      "cell_type": "code",
      "source": "print('The dimension of our array', x.ndim)",
      "execution_count": 14,
      "outputs": [
        {
          "name": "stdout",
          "output_type": "stream",
          "text": "The dimension of our array 2\n"
        }
      ]
    },
    {
      "metadata": {
        "trusted": false
      },
      "cell_type": "code",
      "source": "print('Data type pf elements', x.dtype)",
      "execution_count": 16,
      "outputs": [
        {
          "name": "stdout",
          "output_type": "stream",
          "text": "Data type pf elements int32\n"
        }
      ]
    },
    {
      "metadata": {
        "trusted": false
      },
      "cell_type": "code",
      "source": "print('It consumes', x.nbytes, \"bytes\")",
      "execution_count": 17,
      "outputs": [
        {
          "name": "stdout",
          "output_type": "stream",
          "text": "It consumes 24 bytes\n"
        }
      ]
    },
    {
      "metadata": {
        "trusted": false
      },
      "cell_type": "code",
      "source": "x = np.array ([[1,2,3], [4,5,5]], dtype = np.float)\nprint(x)\nprint(x.nbytes)",
      "execution_count": 21,
      "outputs": [
        {
          "name": "stdout",
          "output_type": "stream",
          "text": "[[1. 2. 3.]\n [4. 5. 5.]]\n48\n"
        }
      ]
    },
    {
      "metadata": {
        "trusted": false
      },
      "cell_type": "code",
      "source": "x = np.array ([[1,2,3], [4,5,5]], dtype = np.complex)\nprint(x)\nprint(x.nbytes)",
      "execution_count": 22,
      "outputs": [
        {
          "name": "stdout",
          "output_type": "stream",
          "text": "[[1.+0.j 2.+0.j 3.+0.j]\n [4.+0.j 5.+0.j 5.+0.j]]\n96\n"
        }
      ]
    },
    {
      "metadata": {
        "trusted": false
      },
      "cell_type": "code",
      "source": "Data_Cancer = np.random.rand(10000, 100)",
      "execution_count": 23,
      "outputs": []
    },
    {
      "metadata": {
        "trusted": false
      },
      "cell_type": "code",
      "source": "Data_Cancer",
      "execution_count": 24,
      "outputs": [
        {
          "data": {
            "text/plain": "array([[0.19757388, 0.43331182, 0.58638056, ..., 0.81300667, 0.89022304,\n        0.51073461],\n       [0.39189605, 0.02434803, 0.67722055, ..., 0.73192468, 0.33800248,\n        0.13294563],\n       [0.43952069, 0.5277462 , 0.6771495 , ..., 0.74832237, 0.08962401,\n        0.60644254],\n       ...,\n       [0.56178702, 0.10799436, 0.12860986, ..., 0.72524781, 0.04477582,\n        0.5992766 ],\n       [0.12503099, 0.183922  , 0.24509107, ..., 0.23769484, 0.12804011,\n        0.32623468],\n       [0.7519785 , 0.20833183, 0.64577715, ..., 0.8066291 , 0.82466246,\n        0.1910504 ]])"
          },
          "execution_count": 24,
          "metadata": {},
          "output_type": "execute_result"
        }
      ]
    },
    {
      "metadata": {
        "trusted": false
      },
      "cell_type": "code",
      "source": "my_list = [2,14,6,8]\nmy_list + 2",
      "execution_count": 25,
      "outputs": [
        {
          "ename": "TypeError",
          "evalue": "can only concatenate list (not \"int\") to list",
          "output_type": "error",
          "traceback": [
            "\u001b[1;31m---------------------------------------------------------------------------\u001b[0m",
            "\u001b[1;31mTypeError\u001b[0m                                 Traceback (most recent call last)",
            "\u001b[1;32m<ipython-input-25-a4c4e6c24a34>\u001b[0m in \u001b[0;36m<module>\u001b[1;34m()\u001b[0m\n\u001b[0;32m      1\u001b[0m \u001b[0mmy_list\u001b[0m \u001b[1;33m=\u001b[0m \u001b[1;33m[\u001b[0m\u001b[1;36m2\u001b[0m\u001b[1;33m,\u001b[0m\u001b[1;36m14\u001b[0m\u001b[1;33m,\u001b[0m\u001b[1;36m6\u001b[0m\u001b[1;33m,\u001b[0m\u001b[1;36m8\u001b[0m\u001b[1;33m]\u001b[0m\u001b[1;33m\u001b[0m\u001b[0m\n\u001b[1;32m----> 2\u001b[1;33m \u001b[0mmy_list\u001b[0m \u001b[1;33m+\u001b[0m \u001b[1;36m2\u001b[0m\u001b[1;33m\u001b[0m\u001b[0m\n\u001b[0m",
            "\u001b[1;31mTypeError\u001b[0m: can only concatenate list (not \"int\") to list"
          ]
        }
      ]
    },
    {
      "metadata": {
        "trusted": false
      },
      "cell_type": "code",
      "source": "my_array = np.array(my_list)",
      "execution_count": 26,
      "outputs": []
    },
    {
      "metadata": {
        "trusted": false
      },
      "cell_type": "code",
      "source": "type(my_array)",
      "execution_count": 27,
      "outputs": [
        {
          "data": {
            "text/plain": "numpy.ndarray"
          },
          "execution_count": 27,
          "metadata": {},
          "output_type": "execute_result"
        }
      ]
    },
    {
      "metadata": {
        "trusted": false
      },
      "cell_type": "code",
      "source": "my_array + 2",
      "execution_count": 28,
      "outputs": [
        {
          "data": {
            "text/plain": "array([ 4, 16,  8, 10])"
          },
          "execution_count": 28,
          "metadata": {},
          "output_type": "execute_result"
        }
      ]
    },
    {
      "metadata": {
        "trusted": false
      },
      "cell_type": "code",
      "source": "my_array - 1",
      "execution_count": 48,
      "outputs": [
        {
          "data": {
            "text/plain": "array([ 1, 13,  5,  7])"
          },
          "execution_count": 48,
          "metadata": {},
          "output_type": "execute_result"
        }
      ]
    },
    {
      "metadata": {
        "trusted": false
      },
      "cell_type": "code",
      "source": "my_array ** 2",
      "execution_count": 29,
      "outputs": [
        {
          "data": {
            "text/plain": "array([  4, 196,  36,  64], dtype=int32)"
          },
          "execution_count": 29,
          "metadata": {},
          "output_type": "execute_result"
        }
      ]
    },
    {
      "metadata": {
        "trusted": false
      },
      "cell_type": "code",
      "source": "my_array / 2",
      "execution_count": 30,
      "outputs": [
        {
          "data": {
            "text/plain": "array([1., 7., 3., 4.])"
          },
          "execution_count": 30,
          "metadata": {},
          "output_type": "execute_result"
        }
      ]
    },
    {
      "metadata": {
        "trusted": false
      },
      "cell_type": "code",
      "source": "my_array / 7",
      "execution_count": 32,
      "outputs": [
        {
          "data": {
            "text/plain": "array([0.28571429, 2.        , 0.85714286, 1.14285714])"
          },
          "execution_count": 32,
          "metadata": {},
          "output_type": "execute_result"
        }
      ]
    },
    {
      "metadata": {
        "trusted": false
      },
      "cell_type": "code",
      "source": "second_array = np.zeros(4)",
      "execution_count": 37,
      "outputs": []
    },
    {
      "metadata": {
        "trusted": false
      },
      "cell_type": "code",
      "source": "print(second_array)",
      "execution_count": 35,
      "outputs": [
        {
          "name": "stdout",
          "output_type": "stream",
          "text": "[0. 0. 0. 0.]\n"
        }
      ]
    },
    {
      "metadata": {
        "trusted": false
      },
      "cell_type": "code",
      "source": "second_array = np.zeros((4,5))",
      "execution_count": 42,
      "outputs": []
    },
    {
      "metadata": {
        "trusted": false
      },
      "cell_type": "code",
      "source": "print(second_array)",
      "execution_count": 43,
      "outputs": [
        {
          "name": "stdout",
          "output_type": "stream",
          "text": "[[0. 0. 0. 0. 0.]\n [0. 0. 0. 0. 0.]\n [0. 0. 0. 0. 0.]\n [0. 0. 0. 0. 0.]]\n"
        }
      ]
    },
    {
      "metadata": {
        "trusted": false
      },
      "cell_type": "code",
      "source": "second_array = np.zeros(4) + 3",
      "execution_count": 44,
      "outputs": []
    },
    {
      "metadata": {
        "trusted": false
      },
      "cell_type": "code",
      "source": "second_array",
      "execution_count": 46,
      "outputs": [
        {
          "data": {
            "text/plain": "array([3., 3., 3., 3.])"
          },
          "execution_count": 46,
          "metadata": {},
          "output_type": "execute_result"
        }
      ]
    },
    {
      "metadata": {
        "trusted": false
      },
      "cell_type": "code",
      "source": "second_array / my_array",
      "execution_count": 47,
      "outputs": [
        {
          "data": {
            "text/plain": "array([1.5       , 0.21428571, 0.5       , 0.375     ])"
          },
          "execution_count": 47,
          "metadata": {},
          "output_type": "execute_result"
        }
      ]
    },
    {
      "metadata": {
        "trusted": false
      },
      "cell_type": "code",
      "source": "second_array = np.identity(4)",
      "execution_count": 49,
      "outputs": []
    },
    {
      "metadata": {
        "trusted": false
      },
      "cell_type": "code",
      "source": "print(second_array)",
      "execution_count": 50,
      "outputs": [
        {
          "name": "stdout",
          "output_type": "stream",
          "text": "[[1. 0. 0. 0.]\n [0. 1. 0. 0.]\n [0. 0. 1. 0.]\n [0. 0. 0. 1.]]\n"
        }
      ]
    },
    {
      "metadata": {
        "trusted": false
      },
      "cell_type": "code",
      "source": "second_array = np.identity(4) + 3\n\nsecond_array",
      "execution_count": 53,
      "outputs": [
        {
          "data": {
            "text/plain": "array([[4., 3., 3., 3.],\n       [3., 4., 3., 3.],\n       [3., 3., 4., 3.],\n       [3., 3., 3., 4.]])"
          },
          "execution_count": 53,
          "metadata": {},
          "output_type": "execute_result"
        }
      ]
    },
    {
      "metadata": {},
      "cell_type": "markdown",
      "source": "## Working with Multidimensional Arrays"
    },
    {
      "metadata": {
        "trusted": false
      },
      "cell_type": "code",
      "source": "c = np.ones((4,4))",
      "execution_count": 54,
      "outputs": []
    },
    {
      "metadata": {
        "trusted": false
      },
      "cell_type": "code",
      "source": "print(c)",
      "execution_count": 55,
      "outputs": [
        {
          "name": "stdout",
          "output_type": "stream",
          "text": "[[1. 1. 1. 1.]\n [1. 1. 1. 1.]\n [1. 1. 1. 1.]\n [1. 1. 1. 1.]]\n"
        }
      ]
    },
    {
      "metadata": {
        "trusted": false
      },
      "cell_type": "code",
      "source": "c.dot(c)",
      "execution_count": 56,
      "outputs": [
        {
          "data": {
            "text/plain": "array([[4., 4., 4., 4.],\n       [4., 4., 4., 4.],\n       [4., 4., 4., 4.],\n       [4., 4., 4., 4.]])"
          },
          "execution_count": 56,
          "metadata": {},
          "output_type": "execute_result"
        }
      ]
    },
    {
      "metadata": {
        "trusted": false
      },
      "cell_type": "code",
      "source": "## TEST",
      "execution_count": 9,
      "outputs": []
    },
    {
      "metadata": {
        "trusted": false
      },
      "cell_type": "code",
      "source": "",
      "execution_count": null,
      "outputs": []
    }
  ],
  "metadata": {
    "kernelspec": {
      "name": "python3",
      "display_name": "Python 3",
      "language": "python"
    },
    "language_info": {
      "mimetype": "text/x-python",
      "nbconvert_exporter": "python",
      "name": "python",
      "pygments_lexer": "ipython3",
      "version": "3.5.4",
      "file_extension": ".py",
      "codemirror_mode": {
        "version": 3,
        "name": "ipython"
      }
    }
  },
  "nbformat": 4,
  "nbformat_minor": 2
}