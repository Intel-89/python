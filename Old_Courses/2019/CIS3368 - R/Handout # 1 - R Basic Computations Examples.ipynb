{
  "cells": [
    {
      "metadata": {
        "trusted": true
      },
      "cell_type": "markdown",
      "source": "# CIS3368  \n## Handout # 1 - R Basic Computations Examples\n\n#### By Fabio Montes"
    },
    {
      "metadata": {},
      "cell_type": "markdown",
      "source": "## Basic Calculations"
    },
    {
      "metadata": {
        "trusted": true
      },
      "cell_type": "code",
      "source": "#Addition\n2-3",
      "execution_count": 1,
      "outputs": [
        {
          "output_type": "display_data",
          "data": {
            "text/plain": "[1] -1",
            "text/latex": "-1",
            "text/markdown": "-1",
            "text/html": "-1"
          },
          "metadata": {}
        }
      ]
    },
    {
      "metadata": {
        "trusted": true
      },
      "cell_type": "code",
      "source": "#Division\n2/3",
      "execution_count": 2,
      "outputs": [
        {
          "output_type": "display_data",
          "data": {
            "text/plain": "[1] 0.6666667",
            "text/latex": "0.666666666666667",
            "text/markdown": "0.666666666666667",
            "text/html": "0.666666666666667"
          },
          "metadata": {}
        }
      ]
    },
    {
      "metadata": {
        "trusted": true
      },
      "cell_type": "code",
      "source": "#Exponentiation\n2^3",
      "execution_count": 15,
      "outputs": [
        {
          "output_type": "display_data",
          "data": {
            "text/plain": "[1] 8",
            "text/latex": "8",
            "text/markdown": "8",
            "text/html": "8"
          },
          "metadata": {}
        }
      ]
    },
    {
      "metadata": {
        "trusted": true
      },
      "cell_type": "code",
      "source": "#Square root\nsqrt(2)",
      "execution_count": 14,
      "outputs": [
        {
          "output_type": "display_data",
          "data": {
            "text/plain": "[1] 1.414214",
            "text/latex": "1.4142135623731",
            "text/markdown": "1.4142135623731",
            "text/html": "1.4142135623731"
          },
          "metadata": {}
        }
      ]
    },
    {
      "metadata": {
        "trusted": true
      },
      "cell_type": "code",
      "source": "#Logarithms\nlog(2)",
      "execution_count": 13,
      "outputs": [
        {
          "output_type": "display_data",
          "data": {
            "text/plain": "[1] 0.6931472",
            "text/latex": "0.693147180559945",
            "text/markdown": "0.693147180559945",
            "text/html": "0.693147180559945"
          },
          "metadata": {}
        }
      ]
    },
    {
      "metadata": {
        "trusted": true
      },
      "cell_type": "code",
      "source": "#Comparison\n#Equal\n3==8",
      "execution_count": 12,
      "outputs": [
        {
          "output_type": "display_data",
          "data": {
            "text/plain": "[1] FALSE",
            "text/latex": "FALSE",
            "text/markdown": "FALSE",
            "text/html": "FALSE"
          },
          "metadata": {}
        }
      ]
    },
    {
      "metadata": {
        "trusted": true
      },
      "cell_type": "code",
      "source": "#Comparison\n#Not Equal\n3!=8",
      "execution_count": 11,
      "outputs": [
        {
          "output_type": "display_data",
          "data": {
            "text/plain": "[1] TRUE",
            "text/latex": "TRUE",
            "text/markdown": "TRUE",
            "text/html": "TRUE"
          },
          "metadata": {}
        }
      ]
    },
    {
      "metadata": {
        "trusted": true
      },
      "cell_type": "code",
      "source": "#Comparison\n#Greater/Less or Greater or equal/Less or equal\n3<=8",
      "execution_count": 10,
      "outputs": [
        {
          "output_type": "display_data",
          "data": {
            "text/plain": "[1] TRUE",
            "text/latex": "TRUE",
            "text/markdown": "TRUE",
            "text/html": "TRUE"
          },
          "metadata": {}
        }
      ]
    },
    {
      "metadata": {},
      "cell_type": "markdown",
      "source": "## Logical Operators"
    },
    {
      "metadata": {
        "trusted": true
      },
      "cell_type": "code",
      "source": "#Logical Disjunction (or)\nFALSE|FALSE",
      "execution_count": 9,
      "outputs": [
        {
          "output_type": "display_data",
          "data": {
            "text/plain": "[1] FALSE",
            "text/latex": "FALSE",
            "text/markdown": "FALSE",
            "text/html": "FALSE"
          },
          "metadata": {}
        }
      ]
    },
    {
      "metadata": {
        "trusted": true
      },
      "cell_type": "code",
      "source": "#Logical Conjuntion (and)\nFALSE&TRUE",
      "execution_count": 8,
      "outputs": [
        {
          "output_type": "display_data",
          "data": {
            "text/plain": "[1] FALSE",
            "text/latex": "FALSE",
            "text/markdown": "FALSE",
            "text/html": "FALSE"
          },
          "metadata": {}
        }
      ]
    },
    {
      "metadata": {
        "trusted": true
      },
      "cell_type": "code",
      "source": "#Negation\n!FALSE",
      "execution_count": 7,
      "outputs": [
        {
          "output_type": "display_data",
          "data": {
            "text/plain": "[1] TRUE",
            "text/latex": "TRUE",
            "text/markdown": "TRUE",
            "text/html": "TRUE"
          },
          "metadata": {}
        }
      ]
    },
    {
      "metadata": {
        "trusted": true
      },
      "cell_type": "code",
      "source": "#Combination of statements\n2<3|1==5",
      "execution_count": 6,
      "outputs": [
        {
          "output_type": "display_data",
          "data": {
            "text/plain": "[1] TRUE",
            "text/latex": "TRUE",
            "text/markdown": "TRUE",
            "text/html": "TRUE"
          },
          "metadata": {}
        }
      ]
    },
    {
      "metadata": {},
      "cell_type": "markdown",
      "source": "### Assigning Values to Variables"
    },
    {
      "metadata": {
        "trusted": true
      },
      "cell_type": "code",
      "source": "aVariable<-2+2   # Either \"<-\",\"->\" or \"=\" can be used to assign values but 'arrows'   \n                 # are more commonly used to avoid confusion with the comparison \"==\"\naVariable*3",
      "execution_count": 18,
      "outputs": [
        {
          "output_type": "display_data",
          "data": {
            "text/plain": "[1] 12",
            "text/latex": "12",
            "text/markdown": "12",
            "text/html": "12"
          },
          "metadata": {}
        }
      ]
    },
    {
      "metadata": {
        "trusted": true
      },
      "cell_type": "code",
      "source": "#Listing the currently defined variables using command \"ls\"\" (as list)\nls() # if only \"aVariable\" is shown is because that is the only variable created up to this point, otherwise if more variables \n     # show up,is because unless you removed them manually, R will display all variables defined in our current notebook.",
      "execution_count": 16,
      "outputs": [
        {
          "output_type": "display_data",
          "data": {
            "text/plain": "[1] \"aVariable\"",
            "text/latex": "'aVariable'",
            "text/markdown": "'aVariable'",
            "text/html": "'aVariable'"
          },
          "metadata": {}
        }
      ]
    },
    {
      "metadata": {
        "trusted": true
      },
      "cell_type": "code",
      "source": "#Deleting a variable\nrm(aVariable)",
      "execution_count": null,
      "outputs": []
    },
    {
      "metadata": {},
      "cell_type": "markdown",
      "source": "## Vectors"
    },
    {
      "metadata": {
        "trusted": true
      },
      "cell_type": "code",
      "source": "# Basic type object in R is a vector, which is an ordered list of values of the same type. You can create a vector using the c() funtion ('c' as concatenate)\naVector<-c(2,5,10,2,1)\naVector",
      "execution_count": 20,
      "outputs": [
        {
          "output_type": "display_data",
          "data": {
            "text/plain": "[1]  2  5 10  2  1",
            "text/latex": "\\begin{enumerate*}\n\\item 2\n\\item 5\n\\item 10\n\\item 2\n\\item 1\n\\end{enumerate*}\n",
            "text/markdown": "1. 2\n2. 5\n3. 10\n4. 2\n5. 1\n\n\n",
            "text/html": "<ol class=list-inline>\n\t<li>2</li>\n\t<li>5</li>\n\t<li>10</li>\n\t<li>2</li>\n\t<li>1</li>\n</ol>\n"
          },
          "metadata": {}
        }
      ]
    },
    {
      "metadata": {
        "trusted": true
      },
      "cell_type": "code",
      "source": "#Creating a second vector\nbVector<-c(2,2,3,3)\nbVector",
      "execution_count": 21,
      "outputs": [
        {
          "output_type": "display_data",
          "data": {
            "text/plain": "[1] 2 2 3 3",
            "text/latex": "\\begin{enumerate*}\n\\item 2\n\\item 2\n\\item 3\n\\item 3\n\\end{enumerate*}\n",
            "text/markdown": "1. 2\n2. 2\n3. 3\n4. 3\n\n\n",
            "text/html": "<ol class=list-inline>\n\t<li>2</li>\n\t<li>2</li>\n\t<li>3</li>\n\t<li>3</li>\n</ol>\n"
          },
          "metadata": {}
        }
      ]
    },
    {
      "metadata": {
        "trusted": true
      },
      "cell_type": "code",
      "source": "#There are also some functionsthat will create vectors with regular patterns, like repeated elements.\n#Replicate funtion combinated with variable assigning\ncVector<-rep(2,5)\ncVector",
      "execution_count": 22,
      "outputs": [
        {
          "output_type": "display_data",
          "data": {
            "text/plain": "[1] 2 2 2 2 2",
            "text/latex": "\\begin{enumerate*}\n\\item 2\n\\item 2\n\\item 2\n\\item 2\n\\item 2\n\\end{enumerate*}\n",
            "text/markdown": "1. 2\n2. 2\n3. 2\n4. 2\n5. 2\n\n\n",
            "text/html": "<ol class=list-inline>\n\t<li>2</li>\n\t<li>2</li>\n\t<li>2</li>\n\t<li>2</li>\n\t<li>2</li>\n</ol>\n"
          },
          "metadata": {}
        }
      ]
    },
    {
      "metadata": {
        "trusted": true
      },
      "cell_type": "code",
      "source": "#Consecutive numbers\ndVector<-1:5\ndVector",
      "execution_count": 23,
      "outputs": [
        {
          "output_type": "display_data",
          "data": {
            "text/plain": "[1] 1 2 3 4 5",
            "text/latex": "\\begin{enumerate*}\n\\item 1\n\\item 2\n\\item 3\n\\item 4\n\\item 5\n\\end{enumerate*}\n",
            "text/markdown": "1. 1\n2. 2\n3. 3\n4. 4\n5. 5\n\n\n",
            "text/html": "<ol class=list-inline>\n\t<li>1</li>\n\t<li>2</li>\n\t<li>3</li>\n\t<li>4</li>\n\t<li>5</li>\n</ol>\n"
          },
          "metadata": {}
        }
      ]
    },
    {
      "metadata": {
        "trusted": true
      },
      "cell_type": "code",
      "source": "#Sequence from 1 to 10 with a step of 2\neVector<-seq(1,10,2)\neVector",
      "execution_count": 24,
      "outputs": [
        {
          "output_type": "display_data",
          "data": {
            "text/plain": "[1] 1 3 5 7 9",
            "text/latex": "\\begin{enumerate*}\n\\item 1\n\\item 3\n\\item 5\n\\item 7\n\\item 9\n\\end{enumerate*}\n",
            "text/markdown": "1. 1\n2. 3\n3. 5\n4. 7\n5. 9\n\n\n",
            "text/html": "<ol class=list-inline>\n\t<li>1</li>\n\t<li>3</li>\n\t<li>5</li>\n\t<li>7</li>\n\t<li>9</li>\n</ol>\n"
          },
          "metadata": {}
        }
      ]
    },
    {
      "metadata": {
        "trusted": true
      },
      "cell_type": "code",
      "source": "#Many functions and operators like + or - will work on all elements fo the vector.\n#Adding vectors\nfVector=aVector+cVector\nfVector",
      "execution_count": 25,
      "outputs": [
        {
          "output_type": "display_data",
          "data": {
            "text/plain": "[1]  4  7 12  4  3",
            "text/latex": "\\begin{enumerate*}\n\\item 4\n\\item 7\n\\item 12\n\\item 4\n\\item 3\n\\end{enumerate*}\n",
            "text/markdown": "1. 4\n2. 7\n3. 12\n4. 4\n5. 3\n\n\n",
            "text/html": "<ol class=list-inline>\n\t<li>4</li>\n\t<li>7</li>\n\t<li>12</li>\n\t<li>4</li>\n\t<li>3</li>\n</ol>\n"
          },
          "metadata": {}
        }
      ]
    },
    {
      "metadata": {
        "trusted": true
      },
      "cell_type": "code",
      "source": "#Comparing Vectors, this will work like comparing invidual variables but for each position on both vectors, if vector dont have same length an error will be displayed.\ncVector==fVector",
      "execution_count": 50,
      "outputs": [
        {
          "output_type": "display_data",
          "data": {
            "text/plain": "[1] FALSE FALSE FALSE FALSE FALSE",
            "text/latex": "\\begin{enumerate*}\n\\item FALSE\n\\item FALSE\n\\item FALSE\n\\item FALSE\n\\item FALSE\n\\end{enumerate*}\n",
            "text/markdown": "1. FALSE\n2. FALSE\n3. FALSE\n4. FALSE\n5. FALSE\n\n\n",
            "text/html": "<ol class=list-inline>\n\t<li>FALSE</li>\n\t<li>FALSE</li>\n\t<li>FALSE</li>\n\t<li>FALSE</li>\n\t<li>FALSE</li>\n</ol>\n"
          },
          "metadata": {}
        }
      ]
    },
    {
      "metadata": {
        "trusted": true
      },
      "cell_type": "code",
      "source": "#Find length of vector\nlength(fVector)",
      "execution_count": 27,
      "outputs": [
        {
          "output_type": "display_data",
          "data": {
            "text/plain": "[1] 5",
            "text/latex": "5",
            "text/markdown": "5",
            "text/html": "5"
          },
          "metadata": {}
        }
      ]
    },
    {
      "metadata": {
        "trusted": true
      },
      "cell_type": "code",
      "source": "#Find minimum value in vector\nmin(eVector)",
      "execution_count": 28,
      "outputs": [
        {
          "output_type": "display_data",
          "data": {
            "text/plain": "[1] 1",
            "text/latex": "1",
            "text/markdown": "1",
            "text/html": "1"
          },
          "metadata": {}
        }
      ]
    },
    {
      "metadata": {
        "trusted": true
      },
      "cell_type": "code",
      "source": "#Find average value in vector\nmean(eVector)",
      "execution_count": 29,
      "outputs": [
        {
          "output_type": "display_data",
          "data": {
            "text/plain": "[1] 5",
            "text/latex": "5",
            "text/markdown": "5",
            "text/html": "5"
          },
          "metadata": {}
        }
      ]
    },
    {
      "metadata": {
        "trusted": true
      },
      "cell_type": "code",
      "source": "#You can access parts of a vector by using [. Very similar to walking through an array on other languages.\naVector     # Diplaying original vector\naVector[2]  #Getting the 2nd element from the vector",
      "execution_count": 52,
      "outputs": [
        {
          "output_type": "display_data",
          "data": {
            "text/plain": "[1]  2  5 10  2  1",
            "text/latex": "\\begin{enumerate*}\n\\item 2\n\\item 5\n\\item 10\n\\item 2\n\\item 1\n\\end{enumerate*}\n",
            "text/markdown": "1. 2\n2. 5\n3. 10\n4. 2\n5. 1\n\n\n",
            "text/html": "<ol class=list-inline>\n\t<li>2</li>\n\t<li>5</li>\n\t<li>10</li>\n\t<li>2</li>\n\t<li>1</li>\n</ol>\n"
          },
          "metadata": {}
        },
        {
          "output_type": "display_data",
          "data": {
            "text/plain": "[1] 5",
            "text/latex": "5",
            "text/markdown": "5",
            "text/html": "5"
          },
          "metadata": {}
        }
      ]
    },
    {
      "metadata": {
        "trusted": true
      },
      "cell_type": "code",
      "source": "#You can also extract multiple values from a vector. For instance to get the 2nd through 4th values use\naVector[c(2,3,4)] \naVector[2:4] # Another way of getting the same results.",
      "execution_count": 53,
      "outputs": [
        {
          "output_type": "display_data",
          "data": {
            "text/plain": "[1]  5 10  2",
            "text/latex": "\\begin{enumerate*}\n\\item 5\n\\item 10\n\\item 2\n\\end{enumerate*}\n",
            "text/markdown": "1. 5\n2. 10\n3. 2\n\n\n",
            "text/html": "<ol class=list-inline>\n\t<li>5</li>\n\t<li>10</li>\n\t<li>2</li>\n</ol>\n"
          },
          "metadata": {}
        },
        {
          "output_type": "display_data",
          "data": {
            "text/plain": "[1]  5 10  2",
            "text/latex": "\\begin{enumerate*}\n\\item 5\n\\item 10\n\\item 2\n\\end{enumerate*}\n",
            "text/markdown": "1. 5\n2. 10\n3. 2\n\n\n",
            "text/html": "<ol class=list-inline>\n\t<li>5</li>\n\t<li>10</li>\n\t<li>2</li>\n</ol>\n"
          },
          "metadata": {}
        }
      ]
    },
    {
      "metadata": {
        "trusted": true
      },
      "cell_type": "code",
      "source": "#Vector can also be strings or logical values\ngVector<-c(\"a\",\"b\",\"cd\",\"efg\",\"h\")\ngVector",
      "execution_count": 33,
      "outputs": [
        {
          "output_type": "display_data",
          "data": {
            "text/plain": "[1] \"a\"   \"b\"   \"cd\"  \"efg\" \"h\"  ",
            "text/latex": "\\begin{enumerate*}\n\\item 'a'\n\\item 'b'\n\\item 'cd'\n\\item 'efg'\n\\item 'h'\n\\end{enumerate*}\n",
            "text/markdown": "1. 'a'\n2. 'b'\n3. 'cd'\n4. 'efg'\n5. 'h'\n\n\n",
            "text/html": "<ol class=list-inline>\n\t<li>'a'</li>\n\t<li>'b'</li>\n\t<li>'cd'</li>\n\t<li>'efg'</li>\n\t<li>'h'</li>\n</ol>\n"
          },
          "metadata": {}
        }
      ]
    },
    {
      "metadata": {},
      "cell_type": "markdown",
      "source": "# DataFrames"
    },
    {
      "metadata": {
        "trusted": true
      },
      "cell_type": "code",
      "source": "#In statistical applications, data is often stored as a dataframe, \n#which is like a spreadsheet, with rows as observations and columns as \n#variables To manually create a datafram, use the data.frame() function.",
      "execution_count": null,
      "outputs": []
    },
    {
      "metadata": {
        "trusted": true
      },
      "cell_type": "code",
      "source": "#data.frame() function implemented with parameters and also assigning it to a variable \"myData\"\nmyData<-data.frame(Column1=c(22,18,30), \n           Column2=c('Tom','Sarah','Tim'), \n           Column3=c(TRUE,FALSE,FALSE))\nmyData # Showing data",
      "execution_count": 59,
      "outputs": [
        {
          "output_type": "stream",
          "text": "  Column1 Column2 Column3\n1      22     Tom    TRUE\n2      18   Sarah   FALSE\n3      30     Tim   FALSE\n",
          "name": "stdout"
        }
      ]
    },
    {
      "metadata": {
        "trusted": true
      },
      "cell_type": "code",
      "source": "# Randomly selecting a sample using function sample(), Following code \n# selects 5 numbers between 1 and 10 at random. (without duplication)\n\nsample(1:10,5) # 1st parameter is vector of one or more elements from which to choose, 2nd parameter is the lenght or positions \n               # and 3rd parameter can also be set as True or False to allow repetition on the values, by default is False.",
      "execution_count": 60,
      "outputs": [
        {
          "output_type": "display_data",
          "data": {
            "text/plain": "[1] 10  3  5  7  6",
            "text/latex": "\\begin{enumerate*}\n\\item 10\n\\item 3\n\\item 5\n\\item 7\n\\item 6\n\\end{enumerate*}\n",
            "text/markdown": "1. 10\n2. 3\n3. 5\n4. 7\n5. 6\n\n\n",
            "text/html": "<ol class=list-inline>\n\t<li>10</li>\n\t<li>3</li>\n\t<li>5</li>\n\t<li>7</li>\n\t<li>6</li>\n</ol>\n"
          },
          "metadata": {}
        }
      ]
    },
    {
      "metadata": {
        "trusted": true
      },
      "cell_type": "code",
      "source": "bar<-data.frame(var1=LETTERS[1:10], var2=1:10) # Creating a dataframe from samples of the same size.\nbar",
      "execution_count": 36,
      "outputs": [
        {
          "output_type": "display_data",
          "data": {
            "text/plain": "   var1 var2\n1  A     1  \n2  B     2  \n3  C     3  \n4  D     4  \n5  E     5  \n6  F     6  \n7  G     7  \n8  H     8  \n9  I     9  \n10 J    10  ",
            "text/latex": "\\begin{tabular}{r|ll}\n var1 & var2\\\\\n\\hline\n\t A  &  1\\\\\n\t B  &  2\\\\\n\t C  &  3\\\\\n\t D  &  4\\\\\n\t E  &  5\\\\\n\t F  &  6\\\\\n\t G  &  7\\\\\n\t H  &  8\\\\\n\t I  &  9\\\\\n\t J  & 10\\\\\n\\end{tabular}\n",
            "text/markdown": "\n| var1 | var2 |\n|---|---|\n| A  |  1 |\n| B  |  2 |\n| C  |  3 |\n| D  |  4 |\n| E  |  5 |\n| F  |  6 |\n| G  |  7 |\n| H  |  8 |\n| I  |  9 |\n| J  | 10 |\n\n",
            "text/html": "<table>\n<thead><tr><th scope=col>var1</th><th scope=col>var2</th></tr></thead>\n<tbody>\n\t<tr><td>A </td><td> 1</td></tr>\n\t<tr><td>B </td><td> 2</td></tr>\n\t<tr><td>C </td><td> 3</td></tr>\n\t<tr><td>D </td><td> 4</td></tr>\n\t<tr><td>E </td><td> 5</td></tr>\n\t<tr><td>F </td><td> 6</td></tr>\n\t<tr><td>G </td><td> 7</td></tr>\n\t<tr><td>H </td><td> 8</td></tr>\n\t<tr><td>I </td><td> 9</td></tr>\n\t<tr><td>J </td><td>10</td></tr>\n</tbody>\n</table>\n"
          },
          "metadata": {}
        }
      ]
    },
    {
      "metadata": {
        "trusted": true
      },
      "cell_type": "code",
      "source": "aSize<-5\nmySample<-sample(1:nrow(bar),size=aSize) # using the lenght of rows on \"bar\" variable (nrow) and the size variable (aSize) creating new sample\nmySample                                 # Printing the sample",
      "execution_count": 37,
      "outputs": [
        {
          "output_type": "display_data",
          "data": {
            "text/plain": "[1] 1 4 2 5 7",
            "text/latex": "\\begin{enumerate*}\n\\item 1\n\\item 4\n\\item 2\n\\item 5\n\\item 7\n\\end{enumerate*}\n",
            "text/markdown": "1. 1\n2. 4\n3. 2\n4. 5\n5. 7\n\n\n",
            "text/html": "<ol class=list-inline>\n\t<li>1</li>\n\t<li>4</li>\n\t<li>2</li>\n\t<li>5</li>\n\t<li>7</li>\n</ol>\n"
          },
          "metadata": {}
        }
      ]
    },
    {
      "metadata": {
        "trusted": true
      },
      "cell_type": "code",
      "source": "# Extracting rows\nbarsample <- bar[mySample,]\n# Printing sample\nprint (barsample)",
      "execution_count": 38,
      "outputs": [
        {
          "output_type": "stream",
          "text": "  var1 var2\n1    A    1\n4    D    4\n2    B    2\n5    E    5\n7    G    7\n",
          "name": "stdout"
        }
      ]
    },
    {
      "metadata": {
        "trusted": true
      },
      "cell_type": "code",
      "source": "# Creating new dataframe called \"barsample\"\" with random sample of rows from bar in a single line of code\nbar[sample(1:nrow(bar),aSize),]",
      "execution_count": 39,
      "outputs": [
        {
          "output_type": "display_data",
          "data": {
            "text/plain": "  var1 var2\n9 I    9   \n8 H    8   \n3 C    3   \n5 E    5   \n4 D    4   ",
            "text/latex": "\\begin{tabular}{r|ll}\n  & var1 & var2\\\\\n\\hline\n\t9 & I & 9\\\\\n\t8 & H & 8\\\\\n\t3 & C & 3\\\\\n\t5 & E & 5\\\\\n\t4 & D & 4\\\\\n\\end{tabular}\n",
            "text/markdown": "\n| <!--/--> | var1 | var2 |\n|---|---|---|\n| 9 | I | 9 |\n| 8 | H | 8 |\n| 3 | C | 3 |\n| 5 | E | 5 |\n| 4 | D | 4 |\n\n",
            "text/html": "<table>\n<thead><tr><th></th><th scope=col>var1</th><th scope=col>var2</th></tr></thead>\n<tbody>\n\t<tr><th scope=row>9</th><td>I</td><td>9</td></tr>\n\t<tr><th scope=row>8</th><td>H</td><td>8</td></tr>\n\t<tr><th scope=row>3</th><td>C</td><td>3</td></tr>\n\t<tr><th scope=row>5</th><td>E</td><td>5</td></tr>\n\t<tr><th scope=row>4</th><td>D</td><td>4</td></tr>\n</tbody>\n</table>\n"
          },
          "metadata": {}
        }
      ]
    },
    {
      "metadata": {},
      "cell_type": "markdown",
      "source": "## Using Tables"
    },
    {
      "metadata": {
        "trusted": true
      },
      "cell_type": "code",
      "source": "#Using a a categorical Vector to create a table of values\nxTable <- c(\"YES\",\"NO\",\"NO\",\"YES\",\"MAYBE\",\"YES\",\"MAYBE\",\"MAYBE\",\"YES\",\"MAYBE\",\"NO\",\"YES\",\"MAYBE\",\"YES\",\"MAYBE\",\"YES\",\"YES\",\"YES\",\"MAYBE\",\"MAYBE\",\"MAYBE\",\"NO\",\"MAYBE\",\"NO\",\"NO\",\"NO\",\"MAYBE\",\"NO\",\"NO\",\"MAYBE\")\ntable(xTable)\nxTable",
      "execution_count": null,
      "outputs": []
    },
    {
      "metadata": {},
      "cell_type": "markdown",
      "source": "## Numeric Measures of center and spread"
    },
    {
      "metadata": {
        "trusted": true
      },
      "cell_type": "code",
      "source": "myArray<-c(12,.4,5,2,50,8,3,1,4,0.25)\nmean(myArray) # Finding the average",
      "execution_count": 40,
      "outputs": [
        {
          "output_type": "display_data",
          "data": {
            "text/plain": "[1] 8.565",
            "text/latex": "8.565",
            "text/markdown": "8.565",
            "text/html": "8.565"
          },
          "metadata": {}
        }
      ]
    },
    {
      "metadata": {
        "trusted": true
      },
      "cell_type": "code",
      "source": "# Finding the variance\nvar(myArray)",
      "execution_count": 41,
      "outputs": [
        {
          "output_type": "display_data",
          "data": {
            "text/plain": "[1] 225.5145",
            "text/latex": "225.514472222222",
            "text/markdown": "225.514472222222",
            "text/html": "225.514472222222"
          },
          "metadata": {}
        }
      ]
    },
    {
      "metadata": {
        "trusted": true
      },
      "cell_type": "code",
      "source": "# Finding standard deviation\nsd(myArray)",
      "execution_count": 42,
      "outputs": [
        {
          "output_type": "display_data",
          "data": {
            "text/plain": "[1] 15.01714",
            "text/latex": "15.0171392822409",
            "text/markdown": "15.0171392822409",
            "text/html": "15.0171392822409"
          },
          "metadata": {}
        }
      ]
    },
    {
      "metadata": {
        "trusted": true
      },
      "cell_type": "code",
      "source": "# the median\nmedian(myArray)",
      "execution_count": 43,
      "outputs": [
        {
          "output_type": "display_data",
          "data": {
            "text/plain": "[1] 3.5",
            "text/latex": "3.5",
            "text/markdown": "3.5",
            "text/html": "3.5"
          },
          "metadata": {}
        }
      ]
    },
    {
      "metadata": {
        "trusted": true
      },
      "cell_type": "code",
      "source": "# Tukey's five number summary, useful for boxplots\n# five numbers: min, lower hinge, median, upper hinge, max \n\nfivenum (myArray)",
      "execution_count": 45,
      "outputs": [
        {
          "output_type": "display_data",
          "data": {
            "text/plain": "[1]  0.25  1.00  3.50  8.00 50.00",
            "text/latex": "\\begin{enumerate*}\n\\item 0.25\n\\item 1\n\\item 3.5\n\\item 8\n\\item 50\n\\end{enumerate*}\n",
            "text/markdown": "1. 0.25\n2. 1\n3. 3.5\n4. 8\n5. 50\n\n\n",
            "text/html": "<ol class=list-inline>\n\t<li>0.25</li>\n\t<li>1</li>\n\t<li>3.5</li>\n\t<li>8</li>\n\t<li>50</li>\n</ol>\n"
          },
          "metadata": {}
        }
      ]
    },
    {
      "metadata": {
        "trusted": true
      },
      "cell_type": "code",
      "source": "# summary statitics\nsummary(myArray)",
      "execution_count": 46,
      "outputs": [
        {
          "output_type": "display_data",
          "data": {
            "text/plain": "   Min. 1st Qu.  Median    Mean 3rd Qu.    Max. \n  0.250   1.250   3.500   8.565   7.250  50.000 "
          },
          "metadata": {}
        }
      ]
    },
    {
      "metadata": {},
      "cell_type": "markdown",
      "source": "## How about the mode?"
    },
    {
      "metadata": {
        "trusted": true
      },
      "cell_type": "code",
      "source": "# In R we can write our own functions, and a first example of a function is shown below in order to compute the mode of a vector of observations x\n\n# Function to find the mode, i.e. most frequent value \ngetMode <- function(x) {\n  ux <-unique(x)\n  ux[which.max(tabulate(match(x,ux)))]\n}\n\n# As an example, we can use the function defined above to find the most frequent value in the vector aVector\n\n# Most frequent value in aVector\ngetMode(aVector)",
      "execution_count": 47,
      "outputs": [
        {
          "output_type": "display_data",
          "data": {
            "text/plain": "[1] 2",
            "text/latex": "2",
            "text/markdown": "2",
            "text/html": "2"
          },
          "metadata": {}
        }
      ]
    }
  ],
  "metadata": {
    "kernelspec": {
      "name": "r",
      "display_name": "R",
      "language": "R"
    },
    "language_info": {
      "mimetype": "text/x-r-source",
      "name": "R",
      "pygments_lexer": "r",
      "version": "3.4.1",
      "file_extension": ".r",
      "codemirror_mode": "r"
    }
  },
  "nbformat": 4,
  "nbformat_minor": 1
}