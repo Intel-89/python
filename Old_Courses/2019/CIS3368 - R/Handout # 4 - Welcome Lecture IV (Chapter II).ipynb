{
  "cells": [
    {
      "metadata": {},
      "cell_type": "markdown",
      "source": "# CIS3368  \n## Handout # 4 - Getting Started with R, Part III\n\n#### By Fabio Montes"
    },
    {
      "metadata": {},
      "cell_type": "markdown",
      "source": "## Concepts:"
    },
    {
      "metadata": {},
      "cell_type": "markdown",
      "source": "* #### Host: a host (also known as \"network host\") is a computer or other device that communicates with other hosts on a network. Hosts on a network include clients and servers -- that send or receive data, services or applications."
    },
    {
      "metadata": {},
      "cell_type": "markdown",
      "source": "* #### Data vulnerability: data vulnerability & data breach are very interconnected concepts; \"vulnerability\" literal concept is the quality or state of being exposed to the possibility of being attacked or harmed, either physically or emotionally; data breach as “an incident in which sensitive, protected, or confidential data has potentially been viewed, stolen, or used by an individual unauthorized to do so. Data breaches may involve payment card information (PCI), personal health information (PHI), personally identifiable information (PII), trade secrets, or intellectual property.”"
    },
    {
      "metadata": {},
      "cell_type": "markdown",
      "source": "* #### Dataframe: data frame is a table or a two-dimensional array-like structure in which each column contains values of one variable and each row contains one set of values from each column. Following are the characteristics of a data frame: the column names should be non-empty,the row names should be unique,the data stored in a data frame can be of numeric, factor or character type & each column should contain same number of data items."
    },
    {
      "metadata": {},
      "cell_type": "markdown",
      "source": "* #### List: lists are the R objects which contain elements of different types like − numbers, strings, vectors and another list inside it. A list can also contain a matrix or a function as its elements."
    },
    {
      "metadata": {},
      "cell_type": "markdown",
      "source": "* #### Array: Arrays are the R data objects which can store data in more than two dimensions. For example − If we create an array of dimension (2, 3, 4) then it creates 4 rectangular matrices each with 2 rows and 3 columns. Arrays can store only data type."
    },
    {
      "metadata": {},
      "cell_type": "markdown",
      "source": "* #### Matrix: Matrices are the R objects in which the elements are arranged in a two-dimensional rectangular layout. They contain elements of the same atomic types. Though we can create a matrix containing only characters or only logical values, they are not of much use. We use matrices containing numeric elements to be used in mathematical calculations."
    },
    {
      "metadata": {},
      "cell_type": "markdown",
      "source": "* #### Categorical Data: Categorical data is the statistical data type consisting of categorical variables or of data that has been converted into that form"
    },
    {
      "metadata": {},
      "cell_type": "markdown",
      "source": "* #### OS: The software that supports a computer's basic functions, such as scheduling tasks, executing applications, and controlling peripherals."
    },
    {
      "metadata": {},
      "cell_type": "markdown",
      "source": "* #### Nodes: Nodes must be a data.frame, with at least one column id. You can add properties simply by adding variables on data.frame"
    },
    {
      "metadata": {},
      "cell_type": "markdown",
      "source": "* #### Zones: In general, a zone is an area of administration. The meaning is similar to that of domain. Specific networking environments use the term to mean somewhat different things."
    },
    {
      "metadata": {},
      "cell_type": "markdown",
      "source": "* #### IP: An Internet Protocol address (IP address) is a numerical label assigned to each device connected to a computer network that uses the Internet Protocol for communication."
    },
    {
      "metadata": {
        "trusted": true
      },
      "cell_type": "code",
      "source": "# create a new data frame of hosts & high vuln counts \nassets.df = data.frame(name=c(\"danube\",\"gander\",\"ganges\",\"mekong\",\"orinoco\"),os=c(\"W2K8\",\"RHEL5\",\"W2K8\",\"RHEL5\",\"RHEL5\"),highvulns=c(1,0,2,0,0))\n#Let us now take a look at the data frame assets.df\nhead(assets.df) # Since I'm using Jupyter Notebook \"View\" isnt implemented yet, thats why I used \"head()\", head() will show first values from data, default value is 5.",
      "execution_count": 1,
      "outputs": [
        {
          "output_type": "display_data",
          "data": {
            "text/plain": "  name    os    highvulns\n1 danube  W2K8  1        \n2 gander  RHEL5 0        \n3 ganges  W2K8  2        \n4 mekong  RHEL5 0        \n5 orinoco RHEL5 0        ",
            "text/latex": "\\begin{tabular}{r|lll}\n name & os & highvulns\\\\\n\\hline\n\t danube  & W2K8    & 1      \\\\\n\t gander  & RHEL5   & 0      \\\\\n\t ganges  & W2K8    & 2      \\\\\n\t mekong  & RHEL5   & 0      \\\\\n\t orinoco & RHEL5   & 0      \\\\\n\\end{tabular}\n",
            "text/markdown": "\n| name | os | highvulns |\n|---|---|---|\n| danube  | W2K8    | 1       |\n| gander  | RHEL5   | 0       |\n| ganges  | W2K8    | 2       |\n| mekong  | RHEL5   | 0       |\n| orinoco | RHEL5   | 0       |\n\n",
            "text/html": "<table>\n<thead><tr><th scope=col>name</th><th scope=col>os</th><th scope=col>highvulns</th></tr></thead>\n<tbody>\n\t<tr><td>danube </td><td>W2K8   </td><td>1      </td></tr>\n\t<tr><td>gander </td><td>RHEL5  </td><td>0      </td></tr>\n\t<tr><td>ganges </td><td>W2K8   </td><td>2      </td></tr>\n\t<tr><td>mekong </td><td>RHEL5  </td><td>0      </td></tr>\n\t<tr><td>orinoco</td><td>RHEL5  </td><td>0      </td></tr>\n</tbody>\n</table>\n"
          },
          "metadata": {}
        }
      ]
    },
    {
      "metadata": {
        "trusted": true
      },
      "cell_type": "code",
      "source": "# take a look at the data frame structure & contents.\nstr(assets.df)   # \"str()\" will show structure from parameter in parenthesis\ntail(assets.df)  # \"head()\"\" will show last values from data, default value is 5.",
      "execution_count": 4,
      "outputs": [
        {
          "output_type": "stream",
          "text": "'data.frame':\t5 obs. of  3 variables:\n $ name     : Factor w/ 5 levels \"danube\",\"gander\",..: 1 2 3 4 5\n $ os       : Factor w/ 2 levels \"RHEL5\",\"W2K8\": 2 1 2 1 1\n $ highvulns: num  1 0 2 0 0\n",
          "name": "stdout"
        },
        {
          "output_type": "display_data",
          "data": {
            "text/plain": "  name    os    highvulns\n1 danube  W2K8  1        \n2 gander  RHEL5 0        \n3 ganges  W2K8  2        \n4 mekong  RHEL5 0        \n5 orinoco RHEL5 0        ",
            "text/latex": "\\begin{tabular}{r|lll}\n name & os & highvulns\\\\\n\\hline\n\t danube  & W2K8    & 1      \\\\\n\t gander  & RHEL5   & 0      \\\\\n\t ganges  & W2K8    & 2      \\\\\n\t mekong  & RHEL5   & 0      \\\\\n\t orinoco & RHEL5   & 0      \\\\\n\\end{tabular}\n",
            "text/markdown": "\n| name | os | highvulns |\n|---|---|---|\n| danube  | W2K8    | 1       |\n| gander  | RHEL5   | 0       |\n| ganges  | W2K8    | 2       |\n| mekong  | RHEL5   | 0       |\n| orinoco | RHEL5   | 0       |\n\n",
            "text/html": "<table>\n<thead><tr><th scope=col>name</th><th scope=col>os</th><th scope=col>highvulns</th></tr></thead>\n<tbody>\n\t<tr><td>danube </td><td>W2K8   </td><td>1      </td></tr>\n\t<tr><td>gander </td><td>RHEL5  </td><td>0      </td></tr>\n\t<tr><td>ganges </td><td>W2K8   </td><td>2      </td></tr>\n\t<tr><td>mekong </td><td>RHEL5  </td><td>0      </td></tr>\n\t<tr><td>orinoco</td><td>RHEL5  </td><td>0      </td></tr>\n</tbody>\n</table>\n"
          },
          "metadata": {}
        }
      ]
    },
    {
      "metadata": {
        "trusted": true
      },
      "cell_type": "code",
      "source": "# by default R creates \"factors\" for categorical data so we use as.character() to expand the factors out.\nhead(assets.df$os) # This line is displaying our first 5 values for the column \"os\" column and below showing the possible outputs from the whole column.",
      "execution_count": 5,
      "outputs": [
        {
          "output_type": "display_data",
          "data": {
            "text/plain": "[1] W2K8  RHEL5 W2K8  RHEL5 RHEL5\nLevels: RHEL5 W2K8",
            "text/latex": "\\begin{enumerate*}\n\\item W2K8\n\\item RHEL5\n\\item W2K8\n\\item RHEL5\n\\item RHEL5\n\\end{enumerate*}\n\n\\emph{Levels}: \\begin{enumerate*}\n\\item 'RHEL5'\n\\item 'W2K8'\n\\end{enumerate*}\n",
            "text/markdown": "1. W2K8\n2. RHEL5\n3. W2K8\n4. RHEL5\n5. RHEL5\n\n\n\n**Levels**: 1. 'RHEL5'\n2. 'W2K8'\n\n\n",
            "text/html": "<ol class=list-inline>\n\t<li>W2K8</li>\n\t<li>RHEL5</li>\n\t<li>W2K8</li>\n\t<li>RHEL5</li>\n\t<li>RHEL5</li>\n</ol>\n\n<details>\n\t<summary style=display:list-item;cursor:pointer>\n\t\t<strong>Levels</strong>:\n\t</summary>\n\t<ol class=list-inline>\n\t\t<li>'RHEL5'</li>\n\t\t<li>'W2K8'</li>\n\t</ol>\n</details>"
          },
          "metadata": {}
        }
      ]
    },
    {
      "metadata": {
        "trusted": true
      },
      "cell_type": "code",
      "source": "# add a new column \nassets.df$ip <- c(\"192.168.1.5\",\"10.2.7.5\",\"192.168.1.7\",\"10.2.7.6\", \"10.2.7.7\")  # This line is adding a 4th column \"ip\" to the dataframe.\nassets.df$ip #  # Showing values for new column.",
      "execution_count": 8,
      "outputs": [
        {
          "output_type": "display_data",
          "data": {
            "text/plain": "[1] \"192.168.1.5\" \"10.2.7.5\"    \"192.168.1.7\" \"10.2.7.6\"    \"10.2.7.7\"   ",
            "text/latex": "\\begin{enumerate*}\n\\item '192.168.1.5'\n\\item '10.2.7.5'\n\\item '192.168.1.7'\n\\item '10.2.7.6'\n\\item '10.2.7.7'\n\\end{enumerate*}\n",
            "text/markdown": "1. '192.168.1.5'\n2. '10.2.7.5'\n3. '192.168.1.7'\n4. '10.2.7.6'\n5. '10.2.7.7'\n\n\n",
            "text/html": "<ol class=list-inline>\n\t<li>'192.168.1.5'</li>\n\t<li>'10.2.7.5'</li>\n\t<li>'192.168.1.7'</li>\n\t<li>'10.2.7.6'</li>\n\t<li>'10.2.7.7'</li>\n</ol>\n"
          },
          "metadata": {}
        }
      ]
    },
    {
      "metadata": {
        "trusted": true
      },
      "cell_type": "code",
      "source": "# extract only nodes with more than one high vulnerability.\nhead(assets.df[assets.df$highvulns>1,]) # # This line is showing first 5 values for the column \"highvulns\" WHERE (conditional) values are higher that value \"1\".",
      "execution_count": 9,
      "outputs": [
        {
          "output_type": "display_data",
          "data": {
            "text/plain": "  name   os   highvulns ip         \n3 ganges W2K8 2         192.168.1.7",
            "text/latex": "\\begin{tabular}{r|llll}\n  & name & os & highvulns & ip\\\\\n\\hline\n\t3 & ganges      & W2K8        & 2           & 192.168.1.7\\\\\n\\end{tabular}\n",
            "text/markdown": "\n| <!--/--> | name | os | highvulns | ip |\n|---|---|---|---|---|\n| 3 | ganges      | W2K8        | 2           | 192.168.1.7 |\n\n",
            "text/html": "<table>\n<thead><tr><th></th><th scope=col>name</th><th scope=col>os</th><th scope=col>highvulns</th><th scope=col>ip</th></tr></thead>\n<tbody>\n\t<tr><th scope=row>3</th><td>ganges     </td><td>W2K8       </td><td>2          </td><td>192.168.1.7</td></tr>\n</tbody>\n</table>\n"
          },
          "metadata": {}
        }
      ]
    },
    {
      "metadata": {
        "trusted": true
      },
      "cell_type": "code",
      "source": "# create a 'zones' column based on prefix IP value \nassets.df$zones <- ifelse(grepl(\"^192\",assets.df$ip),\"Zone1\",\"Zone2\") # grepl returns TRUE if a string contains the pattern, otherwise FALSE; if the parameter is a string vector, \n                                                                      #returns a logical vector (match or not for each element of the vector).\n                                                                      #ifelse is the regular conditional funtion \"IF\" in R language\n                                                                      #Finally line is creating a new column called zone\"\" based on the conditional applied to an existent column.\nassets.df$zones",
      "execution_count": 11,
      "outputs": [
        {
          "output_type": "display_data",
          "data": {
            "text/plain": "[1] \"Zone1\" \"Zone2\" \"Zone1\" \"Zone2\" \"Zone2\"",
            "text/latex": "\\begin{enumerate*}\n\\item 'Zone1'\n\\item 'Zone2'\n\\item 'Zone1'\n\\item 'Zone2'\n\\item 'Zone2'\n\\end{enumerate*}\n",
            "text/markdown": "1. 'Zone1'\n2. 'Zone2'\n3. 'Zone1'\n4. 'Zone2'\n5. 'Zone2'\n\n\n",
            "text/html": "<ol class=list-inline>\n\t<li>'Zone1'</li>\n\t<li>'Zone2'</li>\n\t<li>'Zone1'</li>\n\t<li>'Zone2'</li>\n\t<li>'Zone2'</li>\n</ol>\n"
          },
          "metadata": {}
        }
      ]
    },
    {
      "metadata": {
        "trusted": true
      },
      "cell_type": "code",
      "source": "head(assets.df)",
      "execution_count": 12,
      "outputs": [
        {
          "output_type": "display_data",
          "data": {
            "text/plain": "  name    os    highvulns ip          zones\n1 danube  W2K8  1         192.168.1.5 Zone1\n2 gander  RHEL5 0         10.2.7.5    Zone2\n3 ganges  W2K8  2         192.168.1.7 Zone1\n4 mekong  RHEL5 0         10.2.7.6    Zone2\n5 orinoco RHEL5 0         10.2.7.7    Zone2",
            "text/latex": "\\begin{tabular}{r|lllll}\n name & os & highvulns & ip & zones\\\\\n\\hline\n\t danube      & W2K8        & 1           & 192.168.1.5 & Zone1      \\\\\n\t gander      & RHEL5       & 0           & 10.2.7.5    & Zone2      \\\\\n\t ganges      & W2K8        & 2           & 192.168.1.7 & Zone1      \\\\\n\t mekong      & RHEL5       & 0           & 10.2.7.6    & Zone2      \\\\\n\t orinoco     & RHEL5       & 0           & 10.2.7.7    & Zone2      \\\\\n\\end{tabular}\n",
            "text/markdown": "\n| name | os | highvulns | ip | zones |\n|---|---|---|---|---|\n| danube      | W2K8        | 1           | 192.168.1.5 | Zone1       |\n| gander      | RHEL5       | 0           | 10.2.7.5    | Zone2       |\n| ganges      | W2K8        | 2           | 192.168.1.7 | Zone1       |\n| mekong      | RHEL5       | 0           | 10.2.7.6    | Zone2       |\n| orinoco     | RHEL5       | 0           | 10.2.7.7    | Zone2       |\n\n",
            "text/html": "<table>\n<thead><tr><th scope=col>name</th><th scope=col>os</th><th scope=col>highvulns</th><th scope=col>ip</th><th scope=col>zones</th></tr></thead>\n<tbody>\n\t<tr><td>danube     </td><td>W2K8       </td><td>1          </td><td>192.168.1.5</td><td>Zone1      </td></tr>\n\t<tr><td>gander     </td><td>RHEL5      </td><td>0          </td><td>10.2.7.5   </td><td>Zone2      </td></tr>\n\t<tr><td>ganges     </td><td>W2K8       </td><td>2          </td><td>192.168.1.7</td><td>Zone1      </td></tr>\n\t<tr><td>mekong     </td><td>RHEL5      </td><td>0          </td><td>10.2.7.6   </td><td>Zone2      </td></tr>\n\t<tr><td>orinoco    </td><td>RHEL5      </td><td>0          </td><td>10.2.7.7   </td><td>Zone2      </td></tr>\n</tbody>\n</table>\n"
          },
          "metadata": {}
        }
      ]
    }
  ],
  "metadata": {
    "kernelspec": {
      "name": "r",
      "display_name": "R",
      "language": "R"
    },
    "language_info": {
      "mimetype": "text/x-r-source",
      "name": "R",
      "pygments_lexer": "r",
      "version": "3.4.1",
      "file_extension": ".r",
      "codemirror_mode": "r"
    }
  },
  "nbformat": 4,
  "nbformat_minor": 1
}